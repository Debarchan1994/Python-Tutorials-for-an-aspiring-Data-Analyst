{
 "cells": [
  {
   "cell_type": "markdown",
   "id": "8cb89a0d",
   "metadata": {},
   "source": [
    "# What is python?"
   ]
  },
  {
   "cell_type": "markdown",
   "id": "02ea8589",
   "metadata": {},
   "source": [
    "Python is a programming language created by Guido van Rossum, and released in 1991. \n",
    "It is an open-source, interpreted, object-oriented, high-level programming language."
   ]
  },
  {
   "cell_type": "markdown",
   "id": "b411398d",
   "metadata": {},
   "source": [
    "# Few purposes for which python is used are :"
   ]
  },
  {
   "cell_type": "markdown",
   "id": "fa495125",
   "metadata": {},
   "source": [
    "1) web development (server-side)\n",
    "2) software development\n",
    "3) mathematics\n",
    "4) system scripting\n",
    "5) Data Analysis\n",
    "7) Process Automation\n",
    "8) Data Science and Machine Learning"
   ]
  },
  {
   "cell_type": "markdown",
   "id": "59042195",
   "metadata": {},
   "source": [
    "# What is Anaconda?"
   ]
  },
  {
   "cell_type": "markdown",
   "id": "2e1f13cb",
   "metadata": {},
   "source": [
    "Anaconda is a distribution of the Python and R programming languages for scientific computing (data science, machine learning applications, large-scale data processing, predictive analytics, etc.). It is free to download and install. \n",
    "\n",
    "Anaconda contains the below things:\n",
    "    \n",
    "1) conda - a package and environment manager for your command line interface\n",
    "\n",
    "2) Anaconda Navigator - a desktop application built on conda, with options to launch other development applications from your managed environments\n",
    "\n",
    "3) 250 automatically-installed packages that work well together out of the box\n",
    "\n",
    "4) access to the Anaconda Public Repository, with 8000 open-source data science and machine learning packages"
   ]
  },
  {
   "cell_type": "markdown",
   "id": "df2bc159",
   "metadata": {},
   "source": [
    "# How to install Anaconda?"
   ]
  },
  {
   "cell_type": "markdown",
   "id": "0c0f01e8",
   "metadata": {},
   "source": [
    "1) Download the Anaconda installer.\n",
    "\n",
    "2) Go to your Downloads folder and double-click the installer to launch.\n",
    "\n",
    "3) Click Next and then after reading the licensing terms, click I Agree.\n",
    "\n",
    "4) It is recommended that you install for Just Me, which will install Anaconda Distribution to just the current user account. Only select an install for All Users if you need to install for all users’ accounts on the computer (which requires Windows Administrator privileges) and you are done with it click Next.\n",
    "\n",
    "5) Select a destination folder to install Anaconda and click Next. Install Anaconda to a directory path that does not contain spaces or unicode characters.\n",
    "\n",
    "6) We don’t recommend adding Anaconda to your PATH environment variable, since this can interfere with other software. Unless you plan on installing and running multiple versions of Anaconda or multiple versions of Python.\n",
    "\n",
    "7) Click Install. If you want to watch the packages Anaconda is installing, click Show Details and then click next\n",
    "\n",
    "8) After a successful installation you will see the “Thanks for installing Anaconda” dialog box."
   ]
  },
  {
   "cell_type": "markdown",
   "id": "bb38eb7d",
   "metadata": {},
   "source": [
    "# How to Verify Anaconda installation?"
   ]
  },
  {
   "cell_type": "markdown",
   "id": "ea413520",
   "metadata": {},
   "source": [
    "1) Using Anaconda navigator --> Anaconda Navigator is a graphical user interface (GUI) that is automatically installed with Anaconda. \n",
    "\n",
    "    Windows: Click Start, search for Anaconda Navigator, and click to open.\n",
    "\n",
    "    macOS: Click Launchpad and select Anaconda Navigator. Or use Cmd+Space to open Spotlight Search and type “Navigator” to open the program.\n",
    "    \n",
    "2) Using CLI:\n",
    "    \n",
    "After opening Anaconda Prompt or the terminal, choose the following methods to verify:\n",
    "\n",
    "    First enter \"conda --version\" command. If Anaconda is installed properly it will display the version.\n",
    "    Secondly, Enter \"conda list\" command. If Anaconda is installed and working, this will display a list of installed packages and their versions."
   ]
  },
  {
   "cell_type": "markdown",
   "id": "fd704544",
   "metadata": {},
   "source": [
    "# Say Hello to the world with python"
   ]
  },
  {
   "cell_type": "code",
   "execution_count": 1,
   "id": "910de1c1",
   "metadata": {},
   "outputs": [
    {
     "name": "stdout",
     "output_type": "stream",
     "text": [
      "Hello World\n"
     ]
    }
   ],
   "source": [
    "print(\"Hello World\")"
   ]
  },
  {
   "cell_type": "code",
   "execution_count": 3,
   "id": "d63f70b5",
   "metadata": {},
   "outputs": [
    {
     "name": "stdout",
     "output_type": "stream",
     "text": [
      "Hello World\n"
     ]
    }
   ],
   "source": [
    "var = 'Hello World' #Declaring the string inside a variable (var)\n",
    "print(var)"
   ]
  },
  {
   "cell_type": "markdown",
   "id": "456dcd14",
   "metadata": {},
   "source": [
    "# How to save a run a python file?"
   ]
  },
  {
   "cell_type": "markdown",
   "id": "fd224098",
   "metadata": {},
   "source": [
    "1) Save the File:\n",
    "\n",
    "Save the file with a .py extension. For example, you can save it as hello_world.py.\n",
    "If you are using Jupyter notebook to write your code it will generate a .ipynb notebook file by default but you have the option to generate and download a .py python file by clicking on the \"File\" menu at top left and the hovering over the \"Download as\" option and the clicking on Python(.py) option.\n",
    "\n",
    "2) Run the Program:\n",
    "\n",
    "Open a terminal or command prompt, navigate to the directory where you saved the hello_world.py file, and then run the script using the following command:\n",
    "    \n",
    "    python hello_world.py\n",
    "    \n",
    "You can also navigate to the file using Anaconda Prompt and then run the same above command."
   ]
  },
  {
   "cell_type": "markdown",
   "id": "043d3715",
   "metadata": {},
   "source": [
    "# Variables and Data Types in python"
   ]
  },
  {
   "cell_type": "markdown",
   "id": "357e19c9",
   "metadata": {},
   "source": [
    "Variable : \n",
    "    variable is a name assigned to a memory location that stores data. Variables allow you to manipulate and store values in your programs."
   ]
  },
  {
   "cell_type": "code",
   "execution_count": 8,
   "id": "044a4946",
   "metadata": {},
   "outputs": [
    {
     "name": "stdout",
     "output_type": "stream",
     "text": [
      "My name is  John\n"
     ]
    }
   ],
   "source": [
    "name = \"John\" #here name is a variable storing string value\n",
    "\n",
    "print('My name is ', name)"
   ]
  },
  {
   "cell_type": "code",
   "execution_count": 9,
   "id": "a57e12b5",
   "metadata": {},
   "outputs": [
    {
     "name": "stdout",
     "output_type": "stream",
     "text": [
      "My name is  John Cena\n"
     ]
    }
   ],
   "source": [
    "first_name = 'John'\n",
    "last_name = 'Cena'\n",
    "\n",
    "print('My name is ', first_name, last_name)"
   ]
  },
  {
   "cell_type": "markdown",
   "id": "bc9504bc",
   "metadata": {},
   "source": [
    "Python has the following data types built-in by default:"
   ]
  },
  {
   "cell_type": "markdown",
   "id": "9eadef93",
   "metadata": {},
   "source": [
    "Text Type:\tstr\n",
    "\n",
    "Numeric Types:\tint, float, complex\n",
    "\n",
    "Sequence Types:\tlist, tuple, range\n",
    "\n",
    "Mapping Type:\tdict\n",
    "\n",
    "Set Types:\tset, frozenset\n",
    "\n",
    "Boolean Type:\tbool\n",
    "\n",
    "Binary Types:\tbytes, bytearray, memoryview\n",
    "\n",
    "None Type:\tNoneType\n",
    "\n",
    "In the below examples the data data type getting returned under the <> braket and class tag is the data type of that variable"
   ]
  },
  {
   "cell_type": "code",
   "execution_count": 14,
   "id": "150ace74",
   "metadata": {},
   "outputs": [
    {
     "name": "stdout",
     "output_type": "stream",
     "text": [
      "<class 'str'>\n"
     ]
    }
   ],
   "source": [
    "name = \"John\" #String type\n",
    "print(type(name)) #you can use type command to get the data type of any variable"
   ]
  },
  {
   "cell_type": "code",
   "execution_count": 15,
   "id": "493023a4",
   "metadata": {},
   "outputs": [
    {
     "name": "stdout",
     "output_type": "stream",
     "text": [
      "My age is 29\n",
      "<class 'int'>\n"
     ]
    }
   ],
   "source": [
    "age = 29  # Integer type\n",
    "print('My age is', age)\n",
    "print(type(age))"
   ]
  },
  {
   "cell_type": "code",
   "execution_count": 18,
   "id": "e413259b",
   "metadata": {},
   "outputs": [
    {
     "name": "stdout",
     "output_type": "stream",
     "text": [
      "My grade is  1.3 <class 'float'>\n"
     ]
    }
   ],
   "source": [
    "grade = 1.3  # float type. Note : float means non integer data\n",
    "print(\"My grade is \", grade, type(grade))"
   ]
  },
  {
   "cell_type": "code",
   "execution_count": 19,
   "id": "88fd73e8",
   "metadata": {},
   "outputs": [
    {
     "name": "stdout",
     "output_type": "stream",
     "text": [
      "<class 'complex'>\n"
     ]
    }
   ],
   "source": [
    "complex_num = 3 + 4j  #complex type\n",
    "print(type(complex_num))"
   ]
  },
  {
   "cell_type": "code",
   "execution_count": 22,
   "id": "fbc1ed8e",
   "metadata": {},
   "outputs": [
    {
     "name": "stdout",
     "output_type": "stream",
     "text": [
      "Data type of var b and c respectively <class 'bool'> <class 'bool'>\n"
     ]
    }
   ],
   "source": [
    "b = True  #boolean type\n",
    "c = False\n",
    "print(\"Data type of var b and c respectively\", type(b), type(c))"
   ]
  },
  {
   "cell_type": "markdown",
   "id": "bdf56385",
   "metadata": {},
   "source": [
    "Moving into the most widely used sequence, mapping and set data types"
   ]
  },
  {
   "cell_type": "code",
   "execution_count": 24,
   "id": "194ea60b",
   "metadata": {},
   "outputs": [
    {
     "name": "stdout",
     "output_type": "stream",
     "text": [
      "<class 'list'> ['John', 'Thomas', 'Rahul', 'Kathrin']\n"
     ]
    }
   ],
   "source": [
    "a = [\"John\", \"Thomas\", \"Rahul\", \"Kathrin\"]  #list type\n",
    "print(type(a), a)"
   ]
  },
  {
   "cell_type": "code",
   "execution_count": 29,
   "id": "989a7ff8",
   "metadata": {},
   "outputs": [
    {
     "name": "stdout",
     "output_type": "stream",
     "text": [
      "Thomas\n"
     ]
    }
   ],
   "source": [
    "# you can return a specific element from a list by passing its index into a square bracket\n",
    "\n",
    "'''In case a python the index/position of elements within any sequence data type starts from zero\n",
    "So if you want to call the very first element of a list or tuple you have to pass 0 not 1 into the\n",
    "square brackets'''\n",
    "\n",
    "print(a[1]) "
   ]
  },
  {
   "cell_type": "code",
   "execution_count": 31,
   "id": "3e254eec",
   "metadata": {},
   "outputs": [
    {
     "name": "stdout",
     "output_type": "stream",
     "text": [
      "['John', 'Javed', 'Rahul', 'Kathrin']\n"
     ]
    }
   ],
   "source": [
    "'''List are mutable, which means you can change any element'''\n",
    "\n",
    "a[1] = \"Javed\"  # Here the previous element at index 1 that is \"Thomas\" will be replaced my \"Javed\"\n",
    "print(a)"
   ]
  },
  {
   "cell_type": "code",
   "execution_count": 32,
   "id": "891e1ef1",
   "metadata": {},
   "outputs": [],
   "source": [
    "b = [\"Mona\", \"Julia\", \"Rohit\"]"
   ]
  },
  {
   "cell_type": "code",
   "execution_count": 34,
   "id": "64d14487",
   "metadata": {},
   "outputs": [
    {
     "name": "stdout",
     "output_type": "stream",
     "text": [
      "['John', 'Javed', 'Rahul', 'Kathrin', 'Mona', 'Julia', 'Rohit']\n"
     ]
    }
   ],
   "source": [
    "c = a + b # concateneting two lists\n",
    "print(c)"
   ]
  },
  {
   "cell_type": "code",
   "execution_count": 36,
   "id": "8c15da57",
   "metadata": {},
   "outputs": [
    {
     "name": "stdout",
     "output_type": "stream",
     "text": [
      "length of list c is  7\n"
     ]
    }
   ],
   "source": [
    "# use len command to get the length of a list\n",
    "\n",
    "print(\"length of list c is \", len(c))"
   ]
  },
  {
   "cell_type": "code",
   "execution_count": 44,
   "id": "525805cb",
   "metadata": {},
   "outputs": [
    {
     "ename": "IndexError",
     "evalue": "list index out of range",
     "output_type": "error",
     "traceback": [
      "\u001b[1;31m---------------------------------------------------------------------------\u001b[0m",
      "\u001b[1;31mIndexError\u001b[0m                                Traceback (most recent call last)",
      "\u001b[1;32m<ipython-input-44-f72c60551d77>\u001b[0m in \u001b[0;36m<module>\u001b[1;34m\u001b[0m\n\u001b[0;32m      2\u001b[0m than the length of the list'''\n\u001b[0;32m      3\u001b[0m \u001b[1;33m\u001b[0m\u001b[0m\n\u001b[1;32m----> 4\u001b[1;33m \u001b[0mprint\u001b[0m\u001b[1;33m(\u001b[0m\u001b[0mc\u001b[0m\u001b[1;33m[\u001b[0m\u001b[1;36m7\u001b[0m\u001b[1;33m]\u001b[0m\u001b[1;33m)\u001b[0m\u001b[1;33m\u001b[0m\u001b[1;33m\u001b[0m\u001b[0m\n\u001b[0m",
      "\u001b[1;31mIndexError\u001b[0m: list index out of range"
     ]
    }
   ],
   "source": [
    "'''index error will be thrown if you try to access any element with index number same or greater\n",
    "than the length of the list'''\n",
    "\n",
    "print(c[7])"
   ]
  },
  {
   "cell_type": "code",
   "execution_count": 50,
   "id": "2b8dc7c4",
   "metadata": {},
   "outputs": [],
   "source": [
    "c.append(\"Sonia\") #adding elements to the list from last"
   ]
  },
  {
   "cell_type": "code",
   "execution_count": 54,
   "id": "ca0213b9",
   "metadata": {},
   "outputs": [
    {
     "name": "stdout",
     "output_type": "stream",
     "text": [
      "['John', 'Javed', 'Rahul', 'Kathrin', 'Mona', 'Julia', 'Rohit', 'Sonia']\n"
     ]
    }
   ],
   "source": [
    "print(c)"
   ]
  },
  {
   "cell_type": "code",
   "execution_count": 55,
   "id": "8c8e8631",
   "metadata": {},
   "outputs": [],
   "source": [
    "c.insert(3, \"Deb\") #adding element to the list using a specific index position"
   ]
  },
  {
   "cell_type": "code",
   "execution_count": 56,
   "id": "d1eb2d61",
   "metadata": {},
   "outputs": [
    {
     "name": "stdout",
     "output_type": "stream",
     "text": [
      "['John', 'Javed', 'Rahul', 'Deb', 'Kathrin', 'Mona', 'Julia', 'Rohit', 'Sonia']\n"
     ]
    }
   ],
   "source": [
    "print(c)"
   ]
  },
  {
   "cell_type": "code",
   "execution_count": 57,
   "id": "cc860dba",
   "metadata": {},
   "outputs": [
    {
     "data": {
      "text/plain": [
       "'Sonia'"
      ]
     },
     "execution_count": 57,
     "metadata": {},
     "output_type": "execute_result"
    }
   ],
   "source": [
    "'''To delete elemets from a list you can use either pop or del. Pop is also return the value\n",
    "of the deleted element after deleting it'''\n",
    "\n",
    "c.pop()  #if no index is mentioned pop will delete the last element"
   ]
  },
  {
   "cell_type": "code",
   "execution_count": 59,
   "id": "6c0081d0",
   "metadata": {},
   "outputs": [
    {
     "name": "stdout",
     "output_type": "stream",
     "text": [
      "['John', 'Javed', 'Rahul', 'Deb', 'Kathrin', 'Mona', 'Julia', 'Rohit']\n"
     ]
    }
   ],
   "source": [
    "print(c)"
   ]
  },
  {
   "cell_type": "code",
   "execution_count": 60,
   "id": "88df0f8d",
   "metadata": {},
   "outputs": [
    {
     "data": {
      "text/plain": [
       "'Rahul'"
      ]
     },
     "execution_count": 60,
     "metadata": {},
     "output_type": "execute_result"
    }
   ],
   "source": [
    "c.pop(2)  #will delete the element at index 2"
   ]
  },
  {
   "cell_type": "code",
   "execution_count": 61,
   "id": "cbfa2a4a",
   "metadata": {},
   "outputs": [
    {
     "name": "stdout",
     "output_type": "stream",
     "text": [
      "['John', 'Javed', 'Deb', 'Kathrin', 'Mona', 'Julia', 'Rohit']\n"
     ]
    }
   ],
   "source": [
    "print(c)"
   ]
  },
  {
   "cell_type": "code",
   "execution_count": 62,
   "id": "28010ff3",
   "metadata": {},
   "outputs": [],
   "source": [
    "del c[1] #you can use the del command to delete element from a specific index position"
   ]
  },
  {
   "cell_type": "code",
   "execution_count": 63,
   "id": "9dfff865",
   "metadata": {},
   "outputs": [
    {
     "name": "stdout",
     "output_type": "stream",
     "text": [
      "['John', 'Deb', 'Kathrin', 'Mona', 'Julia', 'Rohit']\n"
     ]
    }
   ],
   "source": [
    "print(c)"
   ]
  },
  {
   "cell_type": "code",
   "execution_count": 65,
   "id": "0a43e1d5",
   "metadata": {},
   "outputs": [
    {
     "name": "stdout",
     "output_type": "stream",
     "text": [
      "['John', 'Deb', 'Kathrin', 'Julia', 'Rohit']\n"
     ]
    }
   ],
   "source": [
    "'''Remove command can be used to delete any element using its value not its index'''\n",
    "\n",
    "c.remove(\"Mona\")\n",
    "print(c)"
   ]
  },
  {
   "cell_type": "code",
   "execution_count": null,
   "id": "9b7a616f",
   "metadata": {},
   "outputs": [],
   "source": []
  },
  {
   "cell_type": "code",
   "execution_count": 97,
   "id": "e4cd9f12",
   "metadata": {},
   "outputs": [
    {
     "name": "stdout",
     "output_type": "stream",
     "text": [
      "<class 'tuple'>\n"
     ]
    }
   ],
   "source": [
    "a = ('John', 'Deb', 'Kathrin', 'Julia', 'Rohit')  #Tuple type\n",
    "print(type(a))"
   ]
  },
  {
   "cell_type": "code",
   "execution_count": 98,
   "id": "430820e2",
   "metadata": {},
   "outputs": [
    {
     "ename": "TypeError",
     "evalue": "'tuple' object does not support item assignment",
     "output_type": "error",
     "traceback": [
      "\u001b[1;31m---------------------------------------------------------------------------\u001b[0m",
      "\u001b[1;31mTypeError\u001b[0m                                 Traceback (most recent call last)",
      "\u001b[1;32m<ipython-input-98-e3249c33e25a>\u001b[0m in \u001b[0;36m<module>\u001b[1;34m\u001b[0m\n\u001b[0;32m      2\u001b[0m defined tuple. If you try to do so you get a Type error'''\n\u001b[0;32m      3\u001b[0m \u001b[1;33m\u001b[0m\u001b[0m\n\u001b[1;32m----> 4\u001b[1;33m \u001b[0ma\u001b[0m\u001b[1;33m[\u001b[0m\u001b[1;36m2\u001b[0m\u001b[1;33m]\u001b[0m \u001b[1;33m=\u001b[0m \u001b[1;34m\"Aru\"\u001b[0m\u001b[1;33m\u001b[0m\u001b[1;33m\u001b[0m\u001b[0m\n\u001b[0m",
      "\u001b[1;31mTypeError\u001b[0m: 'tuple' object does not support item assignment"
     ]
    }
   ],
   "source": [
    "'''Tuples are immutale unlike list that means you cannot change any element within an \n",
    "defined tuple. If you try to do so you get a Type error'''\n",
    "\n",
    "a[2] = \"Aru\""
   ]
  },
  {
   "cell_type": "code",
   "execution_count": 99,
   "id": "a332c132",
   "metadata": {},
   "outputs": [
    {
     "name": "stdout",
     "output_type": "stream",
     "text": [
      "('John', 'Deb', 'Kathrin', 'Julia', 'Rohit')\n"
     ]
    }
   ],
   "source": [
    "print(a)"
   ]
  },
  {
   "cell_type": "code",
   "execution_count": 100,
   "id": "0720c7b8",
   "metadata": {},
   "outputs": [],
   "source": [
    "'''tuples are immutable, which means you cannot modify them once they are created. \n",
    "However, you can create a new tuple by concatenating or combining existing tuples with the \n",
    "elements you want to add'''\n",
    "\n",
    "a = a + (\"Mona\",)"
   ]
  },
  {
   "cell_type": "code",
   "execution_count": 101,
   "id": "a2d5e7cb",
   "metadata": {},
   "outputs": [
    {
     "name": "stdout",
     "output_type": "stream",
     "text": [
      "('John', 'Deb', 'Kathrin', 'Julia', 'Rohit', 'Mona')\n"
     ]
    }
   ],
   "source": [
    "print(a)"
   ]
  },
  {
   "cell_type": "code",
   "execution_count": 102,
   "id": "2532e477",
   "metadata": {},
   "outputs": [],
   "source": [
    "'''Since tuples are immutable, you cannot directly remove any element from the tuple. But you can\n",
    "convert a tuple to list using list command and the remove the element you want to and the again\n",
    "convert the list back to tuple'''\n",
    "\n",
    "a = list(a)"
   ]
  },
  {
   "cell_type": "code",
   "execution_count": 103,
   "id": "ae904a21",
   "metadata": {},
   "outputs": [
    {
     "name": "stdout",
     "output_type": "stream",
     "text": [
      "('John', 'Deb', 'Kathrin', 'Julia', 'Mona')\n"
     ]
    }
   ],
   "source": [
    "a.remove(\"Rohit\")\n",
    "\n",
    "a = tuple(a)\n",
    "\n",
    "print(a)"
   ]
  },
  {
   "cell_type": "code",
   "execution_count": null,
   "id": "d958b631",
   "metadata": {},
   "outputs": [],
   "source": [
    "\"\"\"how to I write a code command line friendly and input , output statement\"\"\""
   ]
  },
  {
   "cell_type": "code",
   "execution_count": 33,
   "id": "e6913df9",
   "metadata": {},
   "outputs": [],
   "source": [
    "a = {'John', 'Deb', 'Kathrin', 'Julia', 'Rohit'} ## set type"
   ]
  },
  {
   "cell_type": "code",
   "execution_count": 34,
   "id": "b5d2e7c0",
   "metadata": {},
   "outputs": [
    {
     "name": "stdout",
     "output_type": "stream",
     "text": [
      "<class 'set'>\n"
     ]
    }
   ],
   "source": [
    "print(type(a))"
   ]
  },
  {
   "cell_type": "code",
   "execution_count": 35,
   "id": "177b14fd",
   "metadata": {},
   "outputs": [],
   "source": [
    "'''Sets are unordered collection of unique elements'''\n",
    "\n",
    "a = {'John', 'Deb', 'Kathrin', 'Julia', 'Rohit', 'Deb'}"
   ]
  },
  {
   "cell_type": "code",
   "execution_count": 36,
   "id": "36c5f022",
   "metadata": {},
   "outputs": [
    {
     "name": "stdout",
     "output_type": "stream",
     "text": [
      "{'John', 'Deb', 'Julia', 'Kathrin', 'Rohit'}\n"
     ]
    }
   ],
   "source": [
    "'''The above set contains 'Deb' 2 times but it won't store repetating elemets, hence when we print\n",
    "the set we get only the collection of unique elements'''\n",
    "\n",
    "print(a)"
   ]
  },
  {
   "cell_type": "code",
   "execution_count": 37,
   "id": "80eb89aa",
   "metadata": {},
   "outputs": [
    {
     "name": "stdout",
     "output_type": "stream",
     "text": [
      "['John', 'Deb', 'Julia', 'Kathrin', 'Rohit']\n"
     ]
    }
   ],
   "source": [
    "'''Set can be used to get the unique elements from a list and tuple'''\n",
    "\n",
    "my_list = ['John', 'Deb', 'Kathrin', 'Julia', 'Rohit', 'Deb']\n",
    "\n",
    "my_set = set(my_list) # converting the list to set to get the unique elements of the list\n",
    "\n",
    "my_list = list(my_set)\n",
    "\n",
    "print(my_list)"
   ]
  },
  {
   "cell_type": "code",
   "execution_count": null,
   "id": "c53a93cc",
   "metadata": {},
   "outputs": [],
   "source": []
  },
  {
   "cell_type": "code",
   "execution_count": 38,
   "id": "99950078",
   "metadata": {},
   "outputs": [
    {
     "name": "stdout",
     "output_type": "stream",
     "text": [
      "{'John', 'Deb', 'Julia', 'Kathrin', 'Rohit'}\n",
      "{'John', 'Monica', 'Deb', 'Julia', 'Kathrin', 'Rohit'}\n",
      "{'John', 'Monica', 'Deb', 'Julia', 'Kathrin', 'Arunima', 'Rohit'}\n"
     ]
    }
   ],
   "source": [
    "'''Remember that sets are mutable, and can be modified by adding or removing elements. \n",
    "If we need an immutable version of a set, we can use the frozenset type'''\n",
    "\n",
    "print(a)\n",
    "\n",
    "a.add('Monica')\n",
    "\n",
    "print(a)\n",
    "\n",
    "a.add('Arunima')\n",
    "\n",
    "print(a)\n"
   ]
  },
  {
   "cell_type": "code",
   "execution_count": 19,
   "id": "e75a4956",
   "metadata": {},
   "outputs": [
    {
     "data": {
      "text/plain": [
       "'In the above add operations we can see that there is not specific way by which the elements are\\nadded is set like from the end or from the start of the set. Elements are added in a random fashion#\\nbecause set is an unordered data type'"
      ]
     },
     "execution_count": 19,
     "metadata": {},
     "output_type": "execute_result"
    }
   ],
   "source": [
    "'''In the above add operations we can see that there is not specific way by which the elements are\n",
    "added is set like from the end or from the start of the set. Elements are added in a random fashion#\n",
    "because set is an unordered data type'''"
   ]
  },
  {
   "cell_type": "code",
   "execution_count": 39,
   "id": "e9856221",
   "metadata": {},
   "outputs": [
    {
     "name": "stdout",
     "output_type": "stream",
     "text": [
      "{'John', 'Monica', 'Deb', 'Julia', 'Kathrin', 'Arunima', 'Rohit'}\n",
      "{'John', 'Monica', 'Deb', 'Julia', 'Kathrin', 'Arunima'}\n"
     ]
    }
   ],
   "source": [
    "print(a)\n",
    "\n",
    "a.remove('Rohit') # removing 'Rohit' from  the set\n",
    "print(a)"
   ]
  },
  {
   "cell_type": "code",
   "execution_count": 40,
   "id": "3a210232",
   "metadata": {},
   "outputs": [
    {
     "name": "stdout",
     "output_type": "stream",
     "text": [
      "{'John', 'Monica', 'Deb', 'Julia', 'Kathrin', 'Arunima'}\n"
     ]
    },
    {
     "ename": "TypeError",
     "evalue": "'set' object is not subscriptable",
     "output_type": "error",
     "traceback": [
      "\u001b[1;31m---------------------------------------------------------------------------\u001b[0m",
      "\u001b[1;31mTypeError\u001b[0m                                 Traceback (most recent call last)",
      "\u001b[1;32m<ipython-input-40-c6fa38365070>\u001b[0m in \u001b[0;36m<module>\u001b[1;34m\u001b[0m\n\u001b[0;32m      3\u001b[0m \u001b[0mprint\u001b[0m\u001b[1;33m(\u001b[0m\u001b[0ma\u001b[0m\u001b[1;33m)\u001b[0m\u001b[1;33m\u001b[0m\u001b[1;33m\u001b[0m\u001b[0m\n\u001b[0;32m      4\u001b[0m \u001b[1;33m\u001b[0m\u001b[0m\n\u001b[1;32m----> 5\u001b[1;33m \u001b[0ma\u001b[0m\u001b[1;33m[\u001b[0m\u001b[1;36m1\u001b[0m\u001b[1;33m]\u001b[0m\u001b[1;33m\u001b[0m\u001b[1;33m\u001b[0m\u001b[0m\n\u001b[0m",
      "\u001b[1;31mTypeError\u001b[0m: 'set' object is not subscriptable"
     ]
    }
   ],
   "source": [
    "'''Since sets are unordered, its not possible to access an element using its index and if we\n",
    "try to do so we get an TypeError'''\n",
    "\n",
    "print(a)\n",
    "\n",
    "a[1]"
   ]
  },
  {
   "cell_type": "code",
   "execution_count": 44,
   "id": "584f8dd2",
   "metadata": {},
   "outputs": [
    {
     "name": "stdout",
     "output_type": "stream",
     "text": [
      "{'John', 'Monica', 'Deb', 'Julia', 'Kathrin', 'Arunima'}\n"
     ]
    }
   ],
   "source": [
    "print(a)\n",
    "\n",
    "a_frozen = frozenset(a) # converting a set to frozen set to make it immutable and hence add and\n",
    "                        # remove operations won't work"
   ]
  },
  {
   "cell_type": "code",
   "execution_count": 45,
   "id": "2b7943f8",
   "metadata": {},
   "outputs": [
    {
     "name": "stdout",
     "output_type": "stream",
     "text": [
      "frozenset({'Kathrin', 'Arunima', 'John', 'Monica', 'Deb', 'Julia'})\n"
     ]
    }
   ],
   "source": [
    "print(a_frozen)"
   ]
  },
  {
   "cell_type": "code",
   "execution_count": 46,
   "id": "cbae62e9",
   "metadata": {},
   "outputs": [
    {
     "ename": "AttributeError",
     "evalue": "'frozenset' object has no attribute 'add'",
     "output_type": "error",
     "traceback": [
      "\u001b[1;31m---------------------------------------------------------------------------\u001b[0m",
      "\u001b[1;31mAttributeError\u001b[0m                            Traceback (most recent call last)",
      "\u001b[1;32m<ipython-input-46-130797caa44e>\u001b[0m in \u001b[0;36m<module>\u001b[1;34m\u001b[0m\n\u001b[1;32m----> 1\u001b[1;33m \u001b[0ma_frozen\u001b[0m\u001b[1;33m.\u001b[0m\u001b[0madd\u001b[0m\u001b[1;33m(\u001b[0m\u001b[1;34m'Philipp'\u001b[0m\u001b[1;33m)\u001b[0m\u001b[1;33m\u001b[0m\u001b[1;33m\u001b[0m\u001b[0m\n\u001b[0m",
      "\u001b[1;31mAttributeError\u001b[0m: 'frozenset' object has no attribute 'add'"
     ]
    }
   ],
   "source": [
    "a_frozen.add('Philipp')"
   ]
  },
  {
   "cell_type": "markdown",
   "id": "7aa85c36",
   "metadata": {},
   "source": [
    "Moving to Mapping Type. That is playig with dictionaries"
   ]
  },
  {
   "cell_type": "code",
   "execution_count": 47,
   "id": "3a9fb1de",
   "metadata": {},
   "outputs": [],
   "source": [
    "my_dictionary = {'name' : 'Deb', 'age' : 29, 'nationality' : 'Indian', 'coding_skill' : 'python'}"
   ]
  },
  {
   "cell_type": "code",
   "execution_count": 49,
   "id": "9ccaf6c2",
   "metadata": {},
   "outputs": [
    {
     "name": "stdout",
     "output_type": "stream",
     "text": [
      "<class 'dict'>\n"
     ]
    }
   ],
   "source": [
    "print(type(my_dictionary)) # Dictionary data type"
   ]
  },
  {
   "cell_type": "code",
   "execution_count": 59,
   "id": "9d454ee2",
   "metadata": {},
   "outputs": [
    {
     "data": {
      "text/plain": [
       "'Keys in Dictionaries must be unique and they are immutable but dictionaries as a whole is \\nmutable'"
      ]
     },
     "execution_count": 59,
     "metadata": {},
     "output_type": "execute_result"
    }
   ],
   "source": [
    "'''Dictionaries in python are unordered collection of elements like sets. Dictionaries are always\n",
    "a combination of key-values pairs, for example in the above example 'name','age','nationality',\n",
    "'coding_skill' are keys and 'deb', 29, 'Indian', 'python' are their corresponding values'''\n",
    "\n",
    "'''Keys in Dictionaries must be unique and they are immutable but dictionaries as a whole is \n",
    "mutable'''"
   ]
  },
  {
   "cell_type": "code",
   "execution_count": 52,
   "id": "16715bfb",
   "metadata": {},
   "outputs": [
    {
     "name": "stdout",
     "output_type": "stream",
     "text": [
      "{'name': 'Deb', 'age': 29, 'nationality': 'Indian', 'coding_skill': 'python'}\n"
     ]
    }
   ],
   "source": [
    "print(my_dictionary)"
   ]
  },
  {
   "cell_type": "code",
   "execution_count": 58,
   "id": "441fac33",
   "metadata": {},
   "outputs": [
    {
     "name": "stdout",
     "output_type": "stream",
     "text": [
      "Deb\n"
     ]
    }
   ],
   "source": [
    "'''to get a element in dictionary we must use its key instead of index as dictionaries are \n",
    "unordered'''\n",
    "\n",
    "print(my_dictionary['name'])"
   ]
  },
  {
   "cell_type": "code",
   "execution_count": 62,
   "id": "f3732960",
   "metadata": {},
   "outputs": [
    {
     "name": "stdout",
     "output_type": "stream",
     "text": [
      "{'name': 'Deb', 'age': 29, 'nationality': 'Indian', 'coding_skill': 'python', 'sports': 'football'}\n"
     ]
    }
   ],
   "source": [
    "'''Adding an new key values pair'''\n",
    "\n",
    "my_dictionary['sports'] = 'football'\n",
    "\n",
    "print(my_dictionary)"
   ]
  },
  {
   "cell_type": "code",
   "execution_count": 63,
   "id": "3f9a3bd0",
   "metadata": {},
   "outputs": [
    {
     "name": "stdout",
     "output_type": "stream",
     "text": [
      "{'name': 'Deb', 'age': 27, 'nationality': 'Indian', 'coding_skill': 'python', 'sports': 'football'}\n"
     ]
    }
   ],
   "source": [
    "'''Replacing a value of a key'''\n",
    "\n",
    "my_dictionary['age'] = 27\n",
    "\n",
    "print(my_dictionary)"
   ]
  },
  {
   "cell_type": "code",
   "execution_count": 64,
   "id": "46b01f11",
   "metadata": {},
   "outputs": [
    {
     "name": "stdout",
     "output_type": "stream",
     "text": [
      "{'name': 'Deb', 'age': 27, 'nationality': 'Indian', 'coding_skill': 'python', 'sports': 'football'}\n",
      "{'name': 'Deb', 'nationality': 'Indian', 'coding_skill': 'python', 'sports': 'football'}\n"
     ]
    }
   ],
   "source": [
    "'''For removing an element from a dictionary we can use both del and pop command just like list'''\n",
    "\n",
    "print(my_dictionary)\n",
    "\n",
    "del my_dictionary['age']\n",
    "\n",
    "print(my_dictionary)"
   ]
  },
  {
   "cell_type": "code",
   "execution_count": 69,
   "id": "2f7f983a",
   "metadata": {},
   "outputs": [
    {
     "name": "stdout",
     "output_type": "stream",
     "text": [
      "{'name': 'Deb', 'nationality': 'Indian', 'coding_skill': 'python', 'sports': 'football'}\n"
     ]
    }
   ],
   "source": [
    "'''When using pop we need to pass the key we want to delete. We can use None as the 2nd \n",
    "argument if incase we don't know whether the key is present or not and to avoid Key Error'''\n",
    "\n",
    "my_dictionary.pop('age', None)\n",
    "\n",
    "print(my_dictionary)"
   ]
  },
  {
   "cell_type": "code",
   "execution_count": 71,
   "id": "729931d9",
   "metadata": {},
   "outputs": [
    {
     "name": "stdout",
     "output_type": "stream",
     "text": [
      "{'name': 'Deb', 'coding_skill': 'python', 'sports': 'football'}\n"
     ]
    }
   ],
   "source": [
    "my_dictionary.pop('nationality', None)\n",
    "\n",
    "print(my_dictionary)"
   ]
  },
  {
   "cell_type": "code",
   "execution_count": null,
   "id": "4a317cfe",
   "metadata": {},
   "outputs": [],
   "source": []
  }
 ],
 "metadata": {
  "kernelspec": {
   "display_name": "Python 3",
   "language": "python",
   "name": "python3"
  },
  "language_info": {
   "codemirror_mode": {
    "name": "ipython",
    "version": 3
   },
   "file_extension": ".py",
   "mimetype": "text/x-python",
   "name": "python",
   "nbconvert_exporter": "python",
   "pygments_lexer": "ipython3",
   "version": "3.7.4"
  }
 },
 "nbformat": 4,
 "nbformat_minor": 5
}
