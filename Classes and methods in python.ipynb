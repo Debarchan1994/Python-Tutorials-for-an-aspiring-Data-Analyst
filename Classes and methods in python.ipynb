{
 "cells": [
  {
   "cell_type": "markdown",
   "id": "53e6b6c2",
   "metadata": {},
   "source": [
    "# What is a class?"
   ]
  },
  {
   "cell_type": "markdown",
   "id": "9cf73f16",
   "metadata": {},
   "source": [
    "Classes provide a way to structure and organize code in an object-oriented programming language.In Python, a class is a framework for creating objects. Objects are instances of a class, and each object can have attributes (characteristics) and methods (functions) associated with it. "
   ]
  },
  {
   "cell_type": "markdown",
   "id": "482d8790",
   "metadata": {},
   "source": [
    "Using classes we can create multiple different objects representing different values using the same piece of code.\n",
    "Hence classes helps us to provide code reusibility."
   ]
  },
  {
   "cell_type": "code",
   "execution_count": 22,
   "id": "20416f82",
   "metadata": {},
   "outputs": [],
   "source": [
    "'''In the below code student is the class and name is its method inside the class. Hence we can create instances of the \n",
    "class student and the call the method name inside it to get the fullname of the students by combining their first and last\n",
    "name. In this way we can use this 3 line of code to create 100s of students and get their full name and if necessary we can \n",
    "pass these values to a pandas dataframe and get a csv file out of it.'''\n",
    "\n",
    "class student:\n",
    "    def name(firstname , lastname):\n",
    "        return firstname + ' ' + lastname"
   ]
  },
  {
   "cell_type": "code",
   "execution_count": 30,
   "id": "3932b68b",
   "metadata": {},
   "outputs": [],
   "source": [
    "student_1 = student   ## Creating an object of the class student"
   ]
  },
  {
   "cell_type": "code",
   "execution_count": 31,
   "id": "e079fc75",
   "metadata": {},
   "outputs": [
    {
     "data": {
      "text/plain": [
       "'Debarchan Chatterjee'"
      ]
     },
     "execution_count": 31,
     "metadata": {},
     "output_type": "execute_result"
    }
   ],
   "source": [
    "student_1.name('Debarchan', 'Chatterjee')  ##Calling the name method for this student_1 object"
   ]
  },
  {
   "cell_type": "code",
   "execution_count": 32,
   "id": "fec32c00",
   "metadata": {},
   "outputs": [],
   "source": [
    "student_2 = student"
   ]
  },
  {
   "cell_type": "code",
   "execution_count": 33,
   "id": "11c2051a",
   "metadata": {},
   "outputs": [
    {
     "data": {
      "text/plain": [
       "'Tom Müller'"
      ]
     },
     "execution_count": 33,
     "metadata": {},
     "output_type": "execute_result"
    }
   ],
   "source": [
    "student_2.name('Tom', 'Müller')  ##Calling the name method for this student_2 object"
   ]
  },
  {
   "cell_type": "code",
   "execution_count": 34,
   "id": "a7e42777",
   "metadata": {},
   "outputs": [],
   "source": [
    "student_3 = student"
   ]
  },
  {
   "cell_type": "code",
   "execution_count": 35,
   "id": "d64526b0",
   "metadata": {},
   "outputs": [
    {
     "data": {
      "text/plain": [
       "'Bill Gates'"
      ]
     },
     "execution_count": 35,
     "metadata": {},
     "output_type": "execute_result"
    }
   ],
   "source": [
    "student_3.name('Bill', 'Gates')  ##Calling the name method for this student_3 object"
   ]
  },
  {
   "cell_type": "code",
   "execution_count": 74,
   "id": "8507bc28",
   "metadata": {},
   "outputs": [],
   "source": [
    "'''Most convinient and popular way of using class is by defining a __init__ constructor inside it '''\n",
    "\n",
    "class student:\n",
    "    \n",
    "    def __init__(self, firstname, lastname):\n",
    "        \n",
    "        self.firstname = firstname\n",
    "        self.lastname = lastname\n",
    "        \n",
    "    def name(self):\n",
    "        return self.firstname + ' ' + self.lastname"
   ]
  },
  {
   "cell_type": "code",
   "execution_count": 75,
   "id": "b5e42ca8",
   "metadata": {},
   "outputs": [],
   "source": [
    "'''Creating an object of the class student by passing the necessary attribute values at source as we have already used \n",
    "__init__ constructor for attribute initialization'''\n",
    "\n",
    "student_1 = student('Debarchan', 'Chatterjee')"
   ]
  },
  {
   "cell_type": "code",
   "execution_count": 76,
   "id": "f32b18d8",
   "metadata": {},
   "outputs": [
    {
     "data": {
      "text/plain": [
       "'Debarchan Chatterjee'"
      ]
     },
     "execution_count": 76,
     "metadata": {},
     "output_type": "execute_result"
    }
   ],
   "source": [
    "student_1.name()"
   ]
  },
  {
   "cell_type": "markdown",
   "id": "34b90b90",
   "metadata": {},
   "source": [
    "# Advantages of using __init__ constructor:"
   ]
  },
  {
   "cell_type": "markdown",
   "id": "6a1a84bb",
   "metadata": {},
   "source": [
    "1) Attribute Initialization: The primary purpose of __init__ constructor is to initialize the attributes of an object. This ensures that the object starts with a known state, and attributes have meaningful values when the object is created.\n",
    "Moreover, this initialized attributes can be used by any method within the class and we donnot need to define the attributes\n",
    "individually for all the methods"
   ]
  },
  {
   "cell_type": "code",
   "execution_count": 85,
   "id": "650b30b3",
   "metadata": {},
   "outputs": [],
   "source": [
    "class student:\n",
    "    \n",
    "    def __init__(self, firstname, lastname, age, school):\n",
    "        \n",
    "        self.firstname = firstname\n",
    "        self.lastname = lastname\n",
    "        self.age = age\n",
    "        self.school = school\n",
    "        \n",
    "    def name(self):\n",
    "        \n",
    "        return self.firstname + ' ' + self.lastname\n",
    "    \n",
    "    def details(self):\n",
    "        \n",
    "        my_dictionary = dict(name = self.firstname + ' ' + self.lastname, age = self.age, school = self.school)\n",
    "        \n",
    "        return my_dictionary"
   ]
  },
  {
   "cell_type": "code",
   "execution_count": 93,
   "id": "50e38591",
   "metadata": {},
   "outputs": [],
   "source": [
    "student_1 = student('Tom', 'Müller', 25, 'FAU')"
   ]
  },
  {
   "cell_type": "code",
   "execution_count": 94,
   "id": "6b40acde",
   "metadata": {},
   "outputs": [
    {
     "data": {
      "text/plain": [
       "'Tom Müller'"
      ]
     },
     "execution_count": 94,
     "metadata": {},
     "output_type": "execute_result"
    }
   ],
   "source": [
    "student_1.name()  ## Calling the name method for this student_1 object"
   ]
  },
  {
   "cell_type": "code",
   "execution_count": 95,
   "id": "d8cf36b0",
   "metadata": {},
   "outputs": [
    {
     "data": {
      "text/plain": [
       "{'name': 'Tom Müller', 'age': 25, 'school': 'FAU'}"
      ]
     },
     "execution_count": 95,
     "metadata": {},
     "output_type": "execute_result"
    }
   ],
   "source": [
    "student_1.details()  ## Calling the details method for this student_1 object"
   ]
  },
  {
   "cell_type": "code",
   "execution_count": 96,
   "id": "c1b1deaa",
   "metadata": {},
   "outputs": [],
   "source": [
    "student_2 = student('Maya', 'Paul', 29, 'TU Munich')"
   ]
  },
  {
   "cell_type": "code",
   "execution_count": 98,
   "id": "f09694c2",
   "metadata": {},
   "outputs": [
    {
     "data": {
      "text/plain": [
       "'Maya Paul'"
      ]
     },
     "execution_count": 98,
     "metadata": {},
     "output_type": "execute_result"
    }
   ],
   "source": [
    "student_2.name()"
   ]
  },
  {
   "cell_type": "code",
   "execution_count": 99,
   "id": "b2b2eb4b",
   "metadata": {},
   "outputs": [
    {
     "data": {
      "text/plain": [
       "{'name': 'Maya Paul', 'age': 29, 'school': 'TU Munich'}"
      ]
     },
     "execution_count": 99,
     "metadata": {},
     "output_type": "execute_result"
    }
   ],
   "source": [
    "student_2.details()"
   ]
  },
  {
   "cell_type": "markdown",
   "id": "8a7dc6fb",
   "metadata": {},
   "source": [
    "2) Default Values: You can provide default values for attributes in the __init__ method. If a value is not provided during object creation, the default value is used.\n",
    "    Note : you have to put the attribute with default value at last of the attribute list in the __init__ constructor or else\n",
    "    error will occur"
   ]
  },
  {
   "cell_type": "code",
   "execution_count": 141,
   "id": "61f62fa7",
   "metadata": {},
   "outputs": [],
   "source": [
    "class student:\n",
    "    \n",
    "    def __init__(self, firstname, lastname, age, school = 'FAU'):\n",
    "        \n",
    "        self.firstname = firstname\n",
    "        self.lastname = lastname\n",
    "        self.age = age\n",
    "        self.school = school\n",
    "        \n",
    "    def name(self):\n",
    "        \n",
    "        return self.firstname + ' ' + self.lastname\n",
    "    \n",
    "    def details(self):\n",
    "        \n",
    "        my_dictionary = dict(name = self.firstname + ' ' + self.lastname, age = self.age, school = self.school)\n",
    "        \n",
    "        return my_dictionary"
   ]
  },
  {
   "cell_type": "code",
   "execution_count": 146,
   "id": "2b523488",
   "metadata": {},
   "outputs": [],
   "source": [
    "'''Here no value for the school attribute is passed hence it will take the default value that is FAU'''\n",
    "\n",
    "student_1 = student('Maya', 'Paul', 29)"
   ]
  },
  {
   "cell_type": "code",
   "execution_count": 147,
   "id": "e1ac6a1f",
   "metadata": {},
   "outputs": [
    {
     "data": {
      "text/plain": [
       "{'name': 'Maya Paul', 'age': 29, 'school': 'FAU'}"
      ]
     },
     "execution_count": 147,
     "metadata": {},
     "output_type": "execute_result"
    }
   ],
   "source": [
    "student_1.details()"
   ]
  },
  {
   "cell_type": "code",
   "execution_count": 150,
   "id": "4927798a",
   "metadata": {},
   "outputs": [],
   "source": [
    "'''Here value for the school attribute is passed hence it will take the passed value that is TU Munich and not the deafult\n",
    "value'''\n",
    "\n",
    "student_2 = student('Dr.', 'Paul', 30, 'TU Munich')"
   ]
  },
  {
   "cell_type": "code",
   "execution_count": 151,
   "id": "50049a13",
   "metadata": {},
   "outputs": [
    {
     "data": {
      "text/plain": [
       "{'name': 'Dr. Paul', 'age': 30, 'school': 'TU Munich'}"
      ]
     },
     "execution_count": 151,
     "metadata": {},
     "output_type": "execute_result"
    }
   ],
   "source": [
    "student_2.details()"
   ]
  },
  {
   "cell_type": "code",
   "execution_count": 156,
   "id": "8aebdadc",
   "metadata": {},
   "outputs": [
    {
     "ename": "SyntaxError",
     "evalue": "non-default argument follows default argument (<ipython-input-156-11e82bda240b>, line 3)",
     "output_type": "error",
     "traceback": [
      "\u001b[1;36m  File \u001b[1;32m\"<ipython-input-156-11e82bda240b>\"\u001b[1;36m, line \u001b[1;32m3\u001b[0m\n\u001b[1;33m    def __init__(self, firstname, lastname, school = 'FAU', age):\u001b[0m\n\u001b[1;37m                ^\u001b[0m\n\u001b[1;31mSyntaxError\u001b[0m\u001b[1;31m:\u001b[0m non-default argument follows default argument\n"
     ]
    }
   ],
   "source": [
    "class student:\n",
    "    \n",
    "    def __init__(self, firstname, lastname, school = 'FAU', age):\n",
    "        \n",
    "        self.firstname = firstname\n",
    "        self.lastname = lastname\n",
    "        self.age = age\n",
    "        self.school = school\n",
    "        \n",
    "    def name(self):\n",
    "        \n",
    "        return self.firstname + ' ' + self.lastname\n",
    "    \n",
    "    def details(self):\n",
    "        \n",
    "        my_dictionary = dict(name = self.firstname + ' ' + self.lastname, age = self.age, school = self.school)\n",
    "        \n",
    "        return my_dictionary"
   ]
  },
  {
   "cell_type": "code",
   "execution_count": 154,
   "id": "c44844d0",
   "metadata": {},
   "outputs": [],
   "source": [
    "'''The above code is throwing error because the attribute with default value is not the last attribute in the __init__\n",
    "constructor'''"
   ]
  },
  {
   "cell_type": "markdown",
   "id": "d28d68a6",
   "metadata": {},
   "source": [
    "3) Validating Inputs: The __init__ constructor can be used to validate the input values provided during object creation. If the inputs don't meet certain criteria, you can raise an exception or handle the exception as per the requirement."
   ]
  },
  {
   "cell_type": "code",
   "execution_count": 168,
   "id": "800350cd",
   "metadata": {},
   "outputs": [],
   "source": [
    "class student:\n",
    "    \n",
    "    def __init__(self, firstname, lastname, age, school = 'FAU'):\n",
    "        \n",
    "        \n",
    "        self.firstname = firstname\n",
    "        self.lastname = lastname\n",
    "        self.age = age\n",
    "        \n",
    "        if not isinstance(self.age, int):\n",
    "            raise ValueError('The age value must be a integer type but {} type is passed'.format(type(self.age)))\n",
    "        \n",
    "        self.school = school\n",
    "        \n",
    "    def name(self):\n",
    "        \n",
    "        return self.firstname + ' ' + self.lastname\n",
    "    \n",
    "    def details(self):\n",
    "        \n",
    "        my_dictionary = dict(name = self.firstname + ' ' + self.lastname, age = self.age, school = self.school)\n",
    "        \n",
    "        return my_dictionary"
   ]
  },
  {
   "cell_type": "code",
   "execution_count": 170,
   "id": "c2459a09",
   "metadata": {},
   "outputs": [
    {
     "ename": "ValueError",
     "evalue": "The age value must be a integer type but <class 'str'> type is passed",
     "output_type": "error",
     "traceback": [
      "\u001b[1;31m---------------------------------------------------------------------------\u001b[0m",
      "\u001b[1;31mValueError\u001b[0m                                Traceback (most recent call last)",
      "\u001b[1;32m<ipython-input-170-47dbb5139434>\u001b[0m in \u001b[0;36m<module>\u001b[1;34m\u001b[0m\n\u001b[1;32m----> 1\u001b[1;33m \u001b[0mstudent_1\u001b[0m \u001b[1;33m=\u001b[0m \u001b[0mstudent\u001b[0m\u001b[1;33m(\u001b[0m\u001b[1;34m'Maya'\u001b[0m\u001b[1;33m,\u001b[0m \u001b[1;34m'Paul'\u001b[0m\u001b[1;33m,\u001b[0m \u001b[1;34m'30'\u001b[0m\u001b[1;33m)\u001b[0m \u001b[1;31m## Raising the Value error as the age was passed as string type instead of integer\u001b[0m\u001b[1;33m\u001b[0m\u001b[1;33m\u001b[0m\u001b[0m\n\u001b[0m",
      "\u001b[1;32m<ipython-input-168-a39d492bbfa3>\u001b[0m in \u001b[0;36m__init__\u001b[1;34m(self, firstname, lastname, age, school)\u001b[0m\n\u001b[0;32m      8\u001b[0m         \u001b[0mself\u001b[0m\u001b[1;33m.\u001b[0m\u001b[0mage\u001b[0m \u001b[1;33m=\u001b[0m \u001b[0mage\u001b[0m\u001b[1;33m\u001b[0m\u001b[1;33m\u001b[0m\u001b[0m\n\u001b[0;32m      9\u001b[0m         \u001b[1;32mif\u001b[0m \u001b[1;32mnot\u001b[0m \u001b[0misinstance\u001b[0m\u001b[1;33m(\u001b[0m\u001b[0mself\u001b[0m\u001b[1;33m.\u001b[0m\u001b[0mage\u001b[0m\u001b[1;33m,\u001b[0m \u001b[0mint\u001b[0m\u001b[1;33m)\u001b[0m\u001b[1;33m:\u001b[0m\u001b[1;33m\u001b[0m\u001b[1;33m\u001b[0m\u001b[0m\n\u001b[1;32m---> 10\u001b[1;33m             \u001b[1;32mraise\u001b[0m \u001b[0mValueError\u001b[0m\u001b[1;33m(\u001b[0m\u001b[1;34m'The age value must be a integer type but {} type is passed'\u001b[0m\u001b[1;33m.\u001b[0m\u001b[0mformat\u001b[0m\u001b[1;33m(\u001b[0m\u001b[0mtype\u001b[0m\u001b[1;33m(\u001b[0m\u001b[0mself\u001b[0m\u001b[1;33m.\u001b[0m\u001b[0mage\u001b[0m\u001b[1;33m)\u001b[0m\u001b[1;33m)\u001b[0m\u001b[1;33m)\u001b[0m\u001b[1;33m\u001b[0m\u001b[1;33m\u001b[0m\u001b[0m\n\u001b[0m\u001b[0;32m     11\u001b[0m         \u001b[0mself\u001b[0m\u001b[1;33m.\u001b[0m\u001b[0mschool\u001b[0m \u001b[1;33m=\u001b[0m \u001b[0mschool\u001b[0m\u001b[1;33m\u001b[0m\u001b[1;33m\u001b[0m\u001b[0m\n\u001b[0;32m     12\u001b[0m \u001b[1;33m\u001b[0m\u001b[0m\n",
      "\u001b[1;31mValueError\u001b[0m: The age value must be a integer type but <class 'str'> type is passed"
     ]
    }
   ],
   "source": [
    "student_1 = student('Maya', 'Paul', '30') ## Raising the Value error as the age was passed as string type instead of integer"
   ]
  },
  {
   "cell_type": "markdown",
   "id": "9018b083",
   "metadata": {},
   "source": [
    "# What is the difference between class variable and instance variable?"
   ]
  },
  {
   "cell_type": "markdown",
   "id": "f9ae2e40",
   "metadata": {},
   "source": [
    "Class variables are shared among all instances of a class that means these variables are not specific to any instance of the class. Typically these are values that are fixed and won't change at any moment.\n",
    "While instance variables are specific to instance of the class and can change for each instance."
   ]
  },
  {
   "cell_type": "code",
   "execution_count": 171,
   "id": "05b66e37",
   "metadata": {},
   "outputs": [],
   "source": [
    "'''The variables inside the __init__ constructor are called instance variable (as in below example they are firstname, \n",
    "lastname, age, school) as they can change for different instances'''\n",
    "\n",
    "class student:\n",
    "    \n",
    "    def __init__(self, firstname, lastname, age, school = 'FAU'):\n",
    "        \n",
    "        \n",
    "        self.firstname = firstname\n",
    "        self.lastname = lastname\n",
    "        self.age = age\n",
    "        \n",
    "        if not isinstance(self.age, int):\n",
    "            raise ValueError('The age value must be a integer type but {} type is passed'.format(type(self.age)))\n",
    "        \n",
    "        self.school = school\n",
    "        \n",
    "    def name(self):\n",
    "        \n",
    "        return self.firstname + ' ' + self.lastname\n",
    "    \n",
    "    def details(self):\n",
    "        \n",
    "        my_dictionary = dict(name = self.firstname + ' ' + self.lastname, age = self.age, school = self.school)\n",
    "        \n",
    "        return my_dictionary"
   ]
  },
  {
   "cell_type": "code",
   "execution_count": 172,
   "id": "d7e5f54a",
   "metadata": {},
   "outputs": [],
   "source": [
    "'''The instance variables for this instance have values 'Maya', 'Paul', 30 and 'Jena' resp.'''\n",
    "\n",
    "student_1 = student('Maya', 'Paul', 30, 'Jena') ## "
   ]
  },
  {
   "cell_type": "code",
   "execution_count": 173,
   "id": "2e85756e",
   "metadata": {},
   "outputs": [
    {
     "data": {
      "text/plain": [
       "{'name': 'Maya Paul', 'age': 30, 'school': 'Jena'}"
      ]
     },
     "execution_count": 173,
     "metadata": {},
     "output_type": "execute_result"
    }
   ],
   "source": [
    "student_1.details()"
   ]
  },
  {
   "cell_type": "code",
   "execution_count": 175,
   "id": "87f1b273",
   "metadata": {},
   "outputs": [],
   "source": [
    "'''The instance variables for this instance have values 'Tom', 'Müller', 29 and 'Uni Tokyo' resp.'''\n",
    "\n",
    "student_2 = student('Tom', 'Müller', 29, 'Uni Tokyo') ## "
   ]
  },
  {
   "cell_type": "code",
   "execution_count": 176,
   "id": "9879e26e",
   "metadata": {},
   "outputs": [
    {
     "data": {
      "text/plain": [
       "{'name': 'Tom Müller', 'age': 29, 'school': 'Uni Tokyo'}"
      ]
     },
     "execution_count": 176,
     "metadata": {},
     "output_type": "execute_result"
    }
   ],
   "source": [
    "student_2.details()"
   ]
  },
  {
   "cell_type": "code",
   "execution_count": 199,
   "id": "49b00a81",
   "metadata": {},
   "outputs": [],
   "source": [
    "'''The class variables are defined outside the __init__ constructor (as in below example it is coding_lang). To call these\n",
    "class variables inside any method we have to use the format like <class name>.<class variable>. An working example can be\n",
    "seen at details method, where coding_lang key is defined using this format'''\n",
    "\n",
    "class student:\n",
    "    \n",
    "    coding_lang = 'Python'\n",
    "    \n",
    "    def __init__(self, firstname, lastname, age, school = 'FAU'):\n",
    "        \n",
    "        \n",
    "        self.firstname = firstname\n",
    "        self.lastname = lastname\n",
    "        self.age = age\n",
    "        \n",
    "        if not isinstance(self.age, int):\n",
    "            raise ValueError('The age value must be a integer type but {} type is passed'.format(type(self.age)))\n",
    "        \n",
    "        self.school = school\n",
    "        \n",
    "    def name(self):\n",
    "        \n",
    "        return self.firstname + ' ' + self.lastname\n",
    "    \n",
    "    def details(self):\n",
    "        \n",
    "        my_dictionary = dict(name = self.firstname + ' ' + self.lastname, age = self.age, school = self.school, \n",
    "                             coding_lang = student.coding_lang)  ## Class variable is used here\n",
    "        \n",
    "        return my_dictionary"
   ]
  },
  {
   "cell_type": "code",
   "execution_count": 200,
   "id": "8e2e826e",
   "metadata": {},
   "outputs": [],
   "source": [
    "'''The instance variables for this instance have values 'Maya', 'Paul', 30 and 'Jena' resp.'''\n",
    "\n",
    "student_1 = student('Maya', 'Paul', 30, 'Jena') ## "
   ]
  },
  {
   "cell_type": "code",
   "execution_count": 201,
   "id": "b8703b8f",
   "metadata": {},
   "outputs": [
    {
     "data": {
      "text/plain": [
       "{'name': 'Maya Paul', 'age': 30, 'school': 'Jena', 'coding_lang': 'Python'}"
      ]
     },
     "execution_count": 201,
     "metadata": {},
     "output_type": "execute_result"
    }
   ],
   "source": [
    "student_1.details()"
   ]
  },
  {
   "cell_type": "code",
   "execution_count": 202,
   "id": "32c09f85",
   "metadata": {},
   "outputs": [
    {
     "name": "stdout",
     "output_type": "stream",
     "text": [
      "Python\n"
     ]
    }
   ],
   "source": [
    "print(student_1.coding_lang)"
   ]
  },
  {
   "cell_type": "code",
   "execution_count": 197,
   "id": "5542b8cf",
   "metadata": {},
   "outputs": [],
   "source": [
    "student_2 = student('Tom', 'Müller', 29, 'Uni Tokyo') "
   ]
  },
  {
   "cell_type": "code",
   "execution_count": 198,
   "id": "82ae8474",
   "metadata": {},
   "outputs": [
    {
     "data": {
      "text/plain": [
       "{'name': 'Tom Müller',\n",
       " 'age': 29,\n",
       " 'school': 'Uni Tokyo',\n",
       " 'coding_lang': 'Python'}"
      ]
     },
     "execution_count": 198,
     "metadata": {},
     "output_type": "execute_result"
    }
   ],
   "source": [
    "student_2.details()"
   ]
  },
  {
   "cell_type": "code",
   "execution_count": 203,
   "id": "ca0172b5",
   "metadata": {},
   "outputs": [
    {
     "name": "stdout",
     "output_type": "stream",
     "text": [
      "Python\n"
     ]
    }
   ],
   "source": [
    "print(student_2.coding_lang)"
   ]
  },
  {
   "cell_type": "code",
   "execution_count": 206,
   "id": "c06da1a1",
   "metadata": {},
   "outputs": [
    {
     "data": {
      "text/plain": [
       "'In the above example we can see that the class variable is fixed for all class instances.'"
      ]
     },
     "execution_count": 206,
     "metadata": {},
     "output_type": "execute_result"
    }
   ],
   "source": [
    "'''In the above example we can see that the class variable is fixed for all class instances.'''"
   ]
  },
  {
   "cell_type": "markdown",
   "id": "b3127df7",
   "metadata": {},
   "source": [
    "# What is Inheritance?"
   ]
  },
  {
   "cell_type": "markdown",
   "id": "752ca35a",
   "metadata": {},
   "source": [
    "Inheritance is an object-oriented programming (OOP) concept that allows a new class (child class) to inherit properties and behaviors from an existing class (parent class)."
   ]
  },
  {
   "cell_type": "code",
   "execution_count": 292,
   "id": "cf4ed62d",
   "metadata": {},
   "outputs": [],
   "source": [
    "'''This is the parent class'''\n",
    "\n",
    "class student:\n",
    "    \n",
    "    \n",
    "    def __init__(self, firstname, lastname, age, school = 'FAU'):\n",
    "        \n",
    "        \n",
    "        self.firstname = firstname\n",
    "        self.lastname = lastname\n",
    "        self.age = age\n",
    "        self.school = school\n",
    "        \n",
    "    def name(self):\n",
    "        \n",
    "        return self.firstname + ' ' + self.lastname\n",
    "    \n",
    "    def details(self):\n",
    "        \n",
    "        my_dictionary = dict(name = self.firstname + ' ' + self.lastname, age = self.age, school = self.school)\n",
    "        \n",
    "        return my_dictionary"
   ]
  },
  {
   "cell_type": "code",
   "execution_count": 233,
   "id": "cd442241",
   "metadata": {},
   "outputs": [],
   "source": [
    "'''The parent class student is inherited by the child class course'''\n",
    "\n",
    "class course(student):       ## Syntax to inherit a class is to mention its name within the paranthesis of the child class\n",
    "        \n",
    "    def more_details(self):\n",
    "        \n",
    "        obj = self.details()  ## method details from the parent class is called and its output is stored in the obj variable\n",
    "        obj['course'] = 'MS'\n",
    "        return obj"
   ]
  },
  {
   "cell_type": "code",
   "execution_count": 237,
   "id": "3145ab99",
   "metadata": {},
   "outputs": [],
   "source": [
    "'''The attributes of the parent class can be defined from the child class itself'''\n",
    "\n",
    "student_1 = course('Maya', 'Paul', 29, 'FAU')"
   ]
  },
  {
   "cell_type": "code",
   "execution_count": 242,
   "id": "ba179c6d",
   "metadata": {},
   "outputs": [
    {
     "data": {
      "text/plain": [
       "{'name': 'Maya Paul', 'age': 29, 'school': 'FAU', 'course': 'MS'}"
      ]
     },
     "execution_count": 242,
     "metadata": {},
     "output_type": "execute_result"
    }
   ],
   "source": [
    "student_1.more_details()   ## method of a child class"
   ]
  },
  {
   "cell_type": "code",
   "execution_count": 243,
   "id": "df86a6a1",
   "metadata": {},
   "outputs": [
    {
     "data": {
      "text/plain": [
       "{'name': 'Maya Paul', 'age': 29, 'school': 'FAU'}"
      ]
     },
     "execution_count": 243,
     "metadata": {},
     "output_type": "execute_result"
    }
   ],
   "source": [
    "student_1.details()  ## method of a parent class can also be called from a child class's instance"
   ]
  },
  {
   "cell_type": "code",
   "execution_count": 304,
   "id": "995bb160",
   "metadata": {},
   "outputs": [],
   "source": [
    "'''The parent class student is inherited by the child class course. Here we have used super() to pass the required \n",
    "attributes to the parent class from the child class. The attribute study is specific the child class course and \n",
    "it is not passed to the parent class using super()'''\n",
    "\n",
    "class course(student):  ## Syntax to inherit a class is to mention its name within the paranthesis of the child class\n",
    "        \n",
    "    def __init__(self, firstname, lastname, age, study, school = 'FAU'):\n",
    "            \n",
    "            super().__init__(firstname, lastname, age, school)\n",
    "            \n",
    "            self.study = study\n",
    "            \n",
    "    def more_details(self):\n",
    "        \n",
    "        obj = self.details()  ## method details from the parent class is called and its output is stored in the obj variable\n",
    "        obj['course'] = self.study\n",
    "        return obj"
   ]
  },
  {
   "cell_type": "code",
   "execution_count": 305,
   "id": "711ca6b4",
   "metadata": {},
   "outputs": [],
   "source": [
    "student_1 = course('Maya', 'Paul', 29, 'MS', 'TU Munich')"
   ]
  },
  {
   "cell_type": "code",
   "execution_count": 306,
   "id": "f3f4fbd2",
   "metadata": {},
   "outputs": [
    {
     "data": {
      "text/plain": [
       "{'name': 'Maya Paul', 'age': 29, 'school': 'TU Munich', 'course': 'MS'}"
      ]
     },
     "execution_count": 306,
     "metadata": {},
     "output_type": "execute_result"
    }
   ],
   "source": [
    "student_1.more_details() "
   ]
  },
  {
   "cell_type": "code",
   "execution_count": 307,
   "id": "2fb1550e",
   "metadata": {},
   "outputs": [],
   "source": [
    "student_2 = course('Dr. ', 'Paul', 30, 'Ph.D.')"
   ]
  },
  {
   "cell_type": "code",
   "execution_count": 308,
   "id": "8e2d435f",
   "metadata": {},
   "outputs": [
    {
     "data": {
      "text/plain": [
       "{'name': 'Dr.  Paul', 'age': 30, 'school': 'FAU', 'course': 'Ph.D.'}"
      ]
     },
     "execution_count": 308,
     "metadata": {},
     "output_type": "execute_result"
    }
   ],
   "source": [
    "student_2.more_details() "
   ]
  },
  {
   "cell_type": "code",
   "execution_count": 313,
   "id": "d8f8cd6c",
   "metadata": {},
   "outputs": [],
   "source": [
    "'''The parent class student is inherited by the child class course. Here we have used super() to pass the required \n",
    "attributes to the parent class from the child class. The attribute study is specific to the child class course and \n",
    "it is not passed to the parent class using super()'''\n",
    "\n",
    "'''Also in this case we have used the key word arguments  (**kwargs) to take the required attributes for the parent class\n",
    "without specifically describing all the parent class attribute names in the __init__ constructor'''\n",
    "\n",
    "class course(student):  ## Syntax to inherit a class is to mention its name within the paranthesis of the child class\n",
    "        \n",
    "    def __init__(self, study, **kwargs):\n",
    "            \n",
    "            super().__init__(**kwargs)\n",
    "            \n",
    "            self.study = study\n",
    "            \n",
    "    def more_details(self):\n",
    "        \n",
    "        obj = self.details()  ## method details from the parent class is called and its output is stored in the obj variable\n",
    "        obj['course'] = self.study\n",
    "        return obj"
   ]
  },
  {
   "cell_type": "code",
   "execution_count": 323,
   "id": "b884cd05",
   "metadata": {},
   "outputs": [],
   "source": [
    "'''Whenever using **kwargs we have to mention the attribute names along with its values while creating an instance'''\n",
    "\n",
    "student_1 = course(firstname = 'Maya', lastname = 'Paul', age = 29, study = 'MS', school = 'TU Munich')"
   ]
  },
  {
   "cell_type": "code",
   "execution_count": 324,
   "id": "e0d45cd3",
   "metadata": {},
   "outputs": [
    {
     "data": {
      "text/plain": [
       "{'name': 'Maya Paul', 'age': 29, 'school': 'TU Munich', 'course': 'MS'}"
      ]
     },
     "execution_count": 324,
     "metadata": {},
     "output_type": "execute_result"
    }
   ],
   "source": [
    "student_1.more_details()"
   ]
  },
  {
   "cell_type": "markdown",
   "id": "80ea1a06",
   "metadata": {},
   "source": [
    "# What is a class method and static method?"
   ]
  },
  {
   "cell_type": "markdown",
   "id": "e953a69e",
   "metadata": {},
   "source": [
    "A class method is bound to the class and not the instance of the class. It takes the class itself as its first parameter referred as cls intead of the instance referred as self. Class methods are defined using the @classmethod decorator."
   ]
  },
  {
   "cell_type": "markdown",
   "id": "e4e73da6",
   "metadata": {},
   "source": [
    "A static method is also bound to the class and not the instance. However, it does not take the class or instance as its first parameter. Static methods are defined using the @staticmethod decorator.\n",
    "Static method are very similar to stand alone fuctions and can easlily be substituted by that.Hence, they are not very commonly used."
   ]
  },
  {
   "cell_type": "code",
   "execution_count": 41,
   "id": "1da885b9",
   "metadata": {},
   "outputs": [],
   "source": [
    "'''Here we can see how class method and static method works and it doesnot depends on the \n",
    "instance of the class.'''\n",
    "\n",
    "'''In this example we have created a class method which takes a string as input can split the string\n",
    "with respect to the hyphens present and get the individual attributes of the class from that.\n",
    "\n",
    "We have also created a static method which return True is the favourite language is python and \n",
    "of not then returns False'''\n",
    "\n",
    "class student:\n",
    "    \n",
    "    \n",
    "    def __init__(self, firstname, lastname, age, school = 'FAU'):\n",
    "        \n",
    "        \n",
    "        self.firstname = firstname\n",
    "        self.lastname = lastname\n",
    "        self.age = age\n",
    "        self.school = school\n",
    "        \n",
    "    def name(self):\n",
    "        \n",
    "        return self.firstname + ' ' + self.lastname\n",
    "    \n",
    "    def details(self):\n",
    "        \n",
    "        my_dictionary = dict(name = self.firstname + ' ' + self.lastname, age = self.age, school = self.school)\n",
    "        \n",
    "        return my_dictionary\n",
    "    \n",
    "    @classmethod\n",
    "    def from_string(cls, string):\n",
    "        \n",
    "        firstname, lastname, age, school = string.split('-')\n",
    "        \n",
    "        if len(school) == 0:\n",
    "            \n",
    "            return cls(firstname, lastname,age) ##passes the attributes to the class student using cls\n",
    "        \n",
    "        else:\n",
    "            \n",
    "            return cls(firstname, lastname,age, school)\n",
    "        \n",
    "        \n",
    "    @staticmethod\n",
    "    def fav_lang(lang):\n",
    "        \n",
    "        if lang == \"python\":\n",
    "            \n",
    "            return True\n",
    "        \n",
    "        else:\n",
    "            \n",
    "            return False\n",
    "            \n",
    "            "
   ]
  },
  {
   "cell_type": "code",
   "execution_count": 44,
   "id": "4a302b66",
   "metadata": {},
   "outputs": [],
   "source": [
    "'''Since from_string is a class method we don't have to create a seperate class instance to call\n",
    "the method. We can directly call the method from the class name itself'''\n",
    "\n",
    "'''This class methods are very useful when it comes to get the attributes required for the class \n",
    "from a string or array etc. '''\n",
    "\n",
    "student_1 = student.from_string('Deb-Singh-29-TU Munich')"
   ]
  },
  {
   "cell_type": "code",
   "execution_count": 35,
   "id": "4dfeea25",
   "metadata": {},
   "outputs": [
    {
     "data": {
      "text/plain": [
       "{'name': 'Deb Singh', 'age': '29', 'school': 'TU Munich'}"
      ]
     },
     "execution_count": 35,
     "metadata": {},
     "output_type": "execute_result"
    }
   ],
   "source": [
    "student_1.details()"
   ]
  },
  {
   "cell_type": "code",
   "execution_count": 37,
   "id": "ca9b2d22",
   "metadata": {},
   "outputs": [],
   "source": [
    "student_2 = student.from_string('Arun-Singh-30-')"
   ]
  },
  {
   "cell_type": "code",
   "execution_count": 38,
   "id": "907e560b",
   "metadata": {},
   "outputs": [
    {
     "data": {
      "text/plain": [
       "{'name': 'Arun Singh', 'age': '30', 'school': 'FAU'}"
      ]
     },
     "execution_count": 38,
     "metadata": {},
     "output_type": "execute_result"
    }
   ],
   "source": [
    "student_2.details()"
   ]
  },
  {
   "cell_type": "code",
   "execution_count": 46,
   "id": "e0f88eaf",
   "metadata": {},
   "outputs": [],
   "source": [
    "'''Since from_string is a static method we don't have to create a seperate class instance to call\n",
    "the method. We can directly call the method from the class name itself'''\n",
    "\n",
    "'''This methods don't depend on the class or the instance and used when we have perform some task\n",
    "that are fixed and redundant and doesn't changes throughout'''\n",
    "\n",
    "su = student.fav_lang(\"python\")"
   ]
  },
  {
   "cell_type": "code",
   "execution_count": 47,
   "id": "a9da42c0",
   "metadata": {},
   "outputs": [
    {
     "data": {
      "text/plain": [
       "True"
      ]
     },
     "execution_count": 47,
     "metadata": {},
     "output_type": "execute_result"
    }
   ],
   "source": [
    "su"
   ]
  },
  {
   "cell_type": "markdown",
   "id": "e88d449a",
   "metadata": {},
   "source": [
    "# What is encapsulation?"
   ]
  },
  {
   "cell_type": "markdown",
   "id": "05b20d93",
   "metadata": {},
   "source": [
    "Encapsulation is one of the fundamental principles of object-oriented programming. It refers to the bundling of attributes and methods that operate on the data within a single unit known as a class. Encapsulation helps hide the internal implementation details of a class and limits access to the class's functionality.\n",
    "Mainly combination of private attributes are used to achive encapsulation "
   ]
  },
  {
   "cell_type": "code",
   "execution_count": 82,
   "id": "4cbe6231",
   "metadata": {},
   "outputs": [],
   "source": [
    "class student:\n",
    "    \n",
    "    \n",
    "    def __init__(self, firstname, lastname, age, school = 'FAU'):\n",
    "        \n",
    "        \n",
    "        self.__firstname = firstname  ##private attribute\n",
    "        self.__lastname = lastname    ## private attribute\n",
    "        self.__age = age              ## private attribute\n",
    "        self.school = school          ## public attribute\n",
    "        \n",
    "        \n",
    "    def get_firstname(self):  ## Getter methods to access private attributes\n",
    "        \n",
    "        return self.__firstname\n",
    "    \n",
    "    def set_age(self, age):  ##Setter methods to modify private attributes\n",
    "        \n",
    "        self.__age = age\n",
    "\n",
    "        \n",
    "    def name(self):\n",
    "        \n",
    "        return self.__firstname + ' ' + self.__lastname\n",
    "    \n",
    "    def details(self):\n",
    "        \n",
    "        my_dictionary = dict(name = self.__firstname + ' ' + self.__lastname, age = self.__age, school = self.school)\n",
    "        \n",
    "        return my_dictionary"
   ]
  },
  {
   "cell_type": "code",
   "execution_count": 83,
   "id": "ab68b55e",
   "metadata": {},
   "outputs": [],
   "source": [
    "student_1 = student(\"Deb\", \"Singh\", 29, \"TU Munich\")"
   ]
  },
  {
   "cell_type": "code",
   "execution_count": 84,
   "id": "f20de26b",
   "metadata": {},
   "outputs": [
    {
     "data": {
      "text/plain": [
       "{'name': 'Deb Singh', 'age': 29, 'school': 'TU Munich'}"
      ]
     },
     "execution_count": 84,
     "metadata": {},
     "output_type": "execute_result"
    }
   ],
   "source": [
    "student_1.details()"
   ]
  },
  {
   "cell_type": "code",
   "execution_count": 61,
   "id": "1c69f69e",
   "metadata": {},
   "outputs": [
    {
     "ename": "AttributeError",
     "evalue": "'student' object has no attribute '__firstname'",
     "output_type": "error",
     "traceback": [
      "\u001b[1;31m---------------------------------------------------------------------------\u001b[0m",
      "\u001b[1;31mAttributeError\u001b[0m                            Traceback (most recent call last)",
      "\u001b[1;32m<ipython-input-61-29197fbf66d2>\u001b[0m in \u001b[0;36m<module>\u001b[1;34m\u001b[0m\n\u001b[0;32m      2\u001b[0m the instance\"\"\"\n\u001b[0;32m      3\u001b[0m \u001b[1;33m\u001b[0m\u001b[0m\n\u001b[1;32m----> 4\u001b[1;33m \u001b[0mstudent_1\u001b[0m\u001b[1;33m.\u001b[0m\u001b[0m__firstname\u001b[0m\u001b[1;33m\u001b[0m\u001b[1;33m\u001b[0m\u001b[0m\n\u001b[0m",
      "\u001b[1;31mAttributeError\u001b[0m: 'student' object has no attribute '__firstname'"
     ]
    }
   ],
   "source": [
    "\"\"\"In the below 2 cells we can see that we cannot access the private attributes directly from \n",
    "the instance\"\"\"\n",
    "\n",
    "student_1.__firstname"
   ]
  },
  {
   "cell_type": "code",
   "execution_count": 59,
   "id": "1610d256",
   "metadata": {},
   "outputs": [
    {
     "ename": "AttributeError",
     "evalue": "'student' object has no attribute 'firstname'",
     "output_type": "error",
     "traceback": [
      "\u001b[1;31m---------------------------------------------------------------------------\u001b[0m",
      "\u001b[1;31mAttributeError\u001b[0m                            Traceback (most recent call last)",
      "\u001b[1;32m<ipython-input-59-ad67bd012516>\u001b[0m in \u001b[0;36m<module>\u001b[1;34m\u001b[0m\n\u001b[1;32m----> 1\u001b[1;33m \u001b[0mstudent_1\u001b[0m\u001b[1;33m.\u001b[0m\u001b[0mfirstname\u001b[0m\u001b[1;33m\u001b[0m\u001b[1;33m\u001b[0m\u001b[0m\n\u001b[0m",
      "\u001b[1;31mAttributeError\u001b[0m: 'student' object has no attribute 'firstname'"
     ]
    }
   ],
   "source": [
    "student_1.firstname"
   ]
  },
  {
   "cell_type": "code",
   "execution_count": 85,
   "id": "73d1f676",
   "metadata": {},
   "outputs": [
    {
     "data": {
      "text/plain": [
       "'TU Munich'"
      ]
     },
     "execution_count": 85,
     "metadata": {},
     "output_type": "execute_result"
    }
   ],
   "source": [
    "\"\"\"Since school is a public attribute we can access it directly from the instance\"\"\"\n",
    "student_1.school"
   ]
  },
  {
   "cell_type": "code",
   "execution_count": 86,
   "id": "7ba5892a",
   "metadata": {},
   "outputs": [
    {
     "data": {
      "text/plain": [
       "'Deb'"
      ]
     },
     "execution_count": 86,
     "metadata": {},
     "output_type": "execute_result"
    }
   ],
   "source": [
    "student_1.get_firstname()"
   ]
  },
  {
   "cell_type": "code",
   "execution_count": 87,
   "id": "51193353",
   "metadata": {},
   "outputs": [],
   "source": [
    "student_1.set_age(32)"
   ]
  },
  {
   "cell_type": "code",
   "execution_count": 88,
   "id": "7e642cc6",
   "metadata": {},
   "outputs": [
    {
     "data": {
      "text/plain": [
       "{'name': 'Deb Singh', 'age': 32, 'school': 'TU Munich'}"
      ]
     },
     "execution_count": 88,
     "metadata": {},
     "output_type": "execute_result"
    }
   ],
   "source": [
    "student_1.details()"
   ]
  },
  {
   "cell_type": "markdown",
   "id": "c9e1ce7f",
   "metadata": {},
   "source": [
    "# What is Abstract class?"
   ]
  },
  {
   "cell_type": "markdown",
   "id": "30f3e6f4",
   "metadata": {},
   "source": [
    "In Python, abstract classes and abstract methods are defined using the ABC (Abstract Base Class) module from the abc module. An abstract class cannot be instantiated, and it serves as a blueprint for other classes. Abstract methods within an abstract class are methods that must be implemented by any concrete (non-abstract) subclass."
   ]
  },
  {
   "cell_type": "code",
   "execution_count": 89,
   "id": "e254564c",
   "metadata": {},
   "outputs": [],
   "source": [
    "from abc import ABC, abstractmethod\n",
    "\n",
    "# Abstract class\n",
    "class main_student(ABC):\n",
    "    @abstractmethod\n",
    "    def name(self):\n",
    "        pass\n",
    "\n",
    "    @abstractmethod\n",
    "    def details(self):\n",
    "        pass\n",
    "\n",
    "# Concrete subclass Circle\n",
    "\n",
    "class student(main_student):\n",
    "    \n",
    "    \n",
    "    def __init__(self, firstname, lastname, age, school = 'FAU'):\n",
    "        \n",
    "        \n",
    "        self.firstname = firstname\n",
    "        self.lastname = lastname\n",
    "        self.age = age\n",
    "        self.school = school\n",
    "        \n",
    "    def name(self):\n",
    "        \n",
    "        return self.firstname + ' ' + self.lastname\n",
    "    \n",
    "    def details(self):\n",
    "        \n",
    "        my_dictionary = dict(name = self.firstname + ' ' + self.lastname, age = self.age, school = self.school)\n",
    "        \n",
    "        return my_dictionary\n",
    "\n"
   ]
  },
  {
   "cell_type": "code",
   "execution_count": 91,
   "id": "bad3a850",
   "metadata": {},
   "outputs": [
    {
     "ename": "TypeError",
     "evalue": "Can't instantiate abstract class main_student with abstract methods details, name",
     "output_type": "error",
     "traceback": [
      "\u001b[1;31m---------------------------------------------------------------------------\u001b[0m",
      "\u001b[1;31mTypeError\u001b[0m                                 Traceback (most recent call last)",
      "\u001b[1;32m<ipython-input-91-46d75bc7f015>\u001b[0m in \u001b[0;36m<module>\u001b[1;34m\u001b[0m\n\u001b[0;32m      1\u001b[0m \u001b[1;31m# Attempting to create an instance of the abstract class will raise an error:\u001b[0m\u001b[1;33m\u001b[0m\u001b[1;33m\u001b[0m\u001b[1;33m\u001b[0m\u001b[0m\n\u001b[1;32m----> 2\u001b[1;33m \u001b[0mstu\u001b[0m \u001b[1;33m=\u001b[0m \u001b[0mmain_student\u001b[0m\u001b[1;33m(\u001b[0m\u001b[1;33m)\u001b[0m\u001b[1;33m\u001b[0m\u001b[1;33m\u001b[0m\u001b[0m\n\u001b[0m",
      "\u001b[1;31mTypeError\u001b[0m: Can't instantiate abstract class main_student with abstract methods details, name"
     ]
    }
   ],
   "source": [
    "# Attempting to create an instance of the abstract class will raise an error:\n",
    "stu = main_student()"
   ]
  },
  {
   "cell_type": "code",
   "execution_count": 92,
   "id": "fcc19e51",
   "metadata": {},
   "outputs": [],
   "source": [
    "student_1 = student(\"Deb\", \"Singh\", 29)"
   ]
  },
  {
   "cell_type": "code",
   "execution_count": 93,
   "id": "55dfcf41",
   "metadata": {},
   "outputs": [
    {
     "data": {
      "text/plain": [
       "{'name': 'Deb Singh', 'age': 29, 'school': 'FAU'}"
      ]
     },
     "execution_count": 93,
     "metadata": {},
     "output_type": "execute_result"
    }
   ],
   "source": [
    "student_1.details()"
   ]
  },
  {
   "cell_type": "code",
   "execution_count": 94,
   "id": "4e88e053",
   "metadata": {},
   "outputs": [],
   "source": [
    "from abc import ABC, abstractmethod\n",
    "\n",
    "# Abstract class\n",
    "class main_student(ABC):\n",
    "    @abstractmethod\n",
    "    def name(self):\n",
    "        pass\n",
    "\n",
    "    @abstractmethod\n",
    "    def details(self):\n",
    "        pass\n",
    "\n",
    "# Concrete subclass Circle\n",
    "\n",
    "class student(main_student):\n",
    "    \n",
    "    \n",
    "    def __init__(self, firstname, lastname, age, school = 'FAU'):\n",
    "        \n",
    "        \n",
    "        self.firstname = firstname\n",
    "        self.lastname = lastname\n",
    "        self.age = age\n",
    "        self.school = school\n",
    "        \n",
    "#     def name(self):\n",
    "        \n",
    "#         return self.firstname + ' ' + self.lastname\n",
    "    \n",
    "    def details(self):\n",
    "        \n",
    "        my_dictionary = dict(name = self.firstname + ' ' + self.lastname, age = self.age, school = self.school)\n",
    "        \n",
    "        return my_dictionary\n",
    "\n"
   ]
  },
  {
   "cell_type": "code",
   "execution_count": 97,
   "id": "ebe9e070",
   "metadata": {},
   "outputs": [
    {
     "ename": "TypeError",
     "evalue": "Can't instantiate abstract class student with abstract methods name",
     "output_type": "error",
     "traceback": [
      "\u001b[1;31m---------------------------------------------------------------------------\u001b[0m",
      "\u001b[1;31mTypeError\u001b[0m                                 Traceback (most recent call last)",
      "\u001b[1;32m<ipython-input-97-3aa5fc130dd1>\u001b[0m in \u001b[0;36m<module>\u001b[1;34m\u001b[0m\n\u001b[0;32m      4\u001b[0m \u001b[1;34m\"\"\"Here we have commented out name method to show how Abstract class works\"\"\"\u001b[0m\u001b[1;33m\u001b[0m\u001b[1;33m\u001b[0m\u001b[0m\n\u001b[0;32m      5\u001b[0m \u001b[1;33m\u001b[0m\u001b[0m\n\u001b[1;32m----> 6\u001b[1;33m \u001b[0mstudent_1\u001b[0m \u001b[1;33m=\u001b[0m \u001b[0mstudent\u001b[0m\u001b[1;33m(\u001b[0m\u001b[1;34m\"Deb\"\u001b[0m\u001b[1;33m,\u001b[0m \u001b[1;34m\"Singh\"\u001b[0m\u001b[1;33m,\u001b[0m \u001b[1;36m29\u001b[0m\u001b[1;33m)\u001b[0m\u001b[1;33m\u001b[0m\u001b[1;33m\u001b[0m\u001b[0m\n\u001b[0m",
      "\u001b[1;31mTypeError\u001b[0m: Can't instantiate abstract class student with abstract methods name"
     ]
    }
   ],
   "source": [
    "\"\"\"methods present in the Abstract class must be present in the sub classes as well or else\n",
    "it will throw error\"\"\"\n",
    "\n",
    "\"\"\"Here we have commented out name method to show how Abstract class works\"\"\"\n",
    "\n",
    "student_1 = student(\"Deb\", \"Singh\", 29)"
   ]
  },
  {
   "cell_type": "code",
   "execution_count": null,
   "id": "e3e196c6",
   "metadata": {},
   "outputs": [],
   "source": []
  }
 ],
 "metadata": {
  "kernelspec": {
   "display_name": "Python 3",
   "language": "python",
   "name": "python3"
  },
  "language_info": {
   "codemirror_mode": {
    "name": "ipython",
    "version": 3
   },
   "file_extension": ".py",
   "mimetype": "text/x-python",
   "name": "python",
   "nbconvert_exporter": "python",
   "pygments_lexer": "ipython3",
   "version": "3.7.4"
  }
 },
 "nbformat": 4,
 "nbformat_minor": 5
}
