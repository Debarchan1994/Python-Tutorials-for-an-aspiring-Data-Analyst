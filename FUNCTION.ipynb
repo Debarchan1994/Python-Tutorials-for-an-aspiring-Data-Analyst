{
 "cells": [
  {
   "cell_type": "markdown",
   "id": "fb4c30cf",
   "metadata": {},
   "source": [
    "# What is a function in python?"
   ]
  },
  {
   "cell_type": "markdown",
   "id": "372b7ea5",
   "metadata": {},
   "source": [
    "In Python, a function is a block of reusable code that performs a specific task or set of tasks. Functions help in organizing code, making it more modular, readable, and maintainable.\n",
    "def keyword is used to define a function"
   ]
  },
  {
   "cell_type": "code",
   "execution_count": 1,
   "id": "34d0e6c5",
   "metadata": {},
   "outputs": [],
   "source": [
    "def add_num(a,b):\n",
    "    return a + b"
   ]
  },
  {
   "cell_type": "code",
   "execution_count": 4,
   "id": "7aad38e0",
   "metadata": {},
   "outputs": [],
   "source": [
    "obj = add_num(2,3)  ## object creation for the function and passing the attributes as well"
   ]
  },
  {
   "cell_type": "code",
   "execution_count": 5,
   "id": "ea2162c7",
   "metadata": {},
   "outputs": [
    {
     "name": "stdout",
     "output_type": "stream",
     "text": [
      "5\n"
     ]
    }
   ],
   "source": [
    "print(obj)"
   ]
  },
  {
   "cell_type": "code",
   "execution_count": 6,
   "id": "c80eb7ad",
   "metadata": {},
   "outputs": [
    {
     "name": "stdout",
     "output_type": "stream",
     "text": [
      "13\n"
     ]
    }
   ],
   "source": [
    "obj_2 = add_num(6,7)\n",
    "print(obj_2)"
   ]
  },
  {
   "cell_type": "code",
   "execution_count": 7,
   "id": "3d41cdb0",
   "metadata": {},
   "outputs": [
    {
     "data": {
      "text/plain": [
       "'we can use the same peice of code multiple times by creating different objects and hence\\nit makes a code reusable'"
      ]
     },
     "execution_count": 7,
     "metadata": {},
     "output_type": "execute_result"
    }
   ],
   "source": [
    "\"\"\"we can use the same peice of code multiple times by creating different objects and hence\n",
    "it makes a code reusable\"\"\""
   ]
  },
  {
   "cell_type": "markdown",
   "id": "2c91d388",
   "metadata": {},
   "source": [
    "Example 1: pass a list to get to sum of all the elements"
   ]
  },
  {
   "cell_type": "code",
   "execution_count": 9,
   "id": "f1ec24f0",
   "metadata": {},
   "outputs": [],
   "source": [
    "my_list = [2,3,47,9,10]"
   ]
  },
  {
   "cell_type": "code",
   "execution_count": 10,
   "id": "58fcba39",
   "metadata": {},
   "outputs": [],
   "source": [
    "def sum_list(my_list):\n",
    "    a = sum(my_list)\n",
    "    return a"
   ]
  },
  {
   "cell_type": "code",
   "execution_count": 11,
   "id": "d6ccd69d",
   "metadata": {},
   "outputs": [],
   "source": [
    "obj = sum_list(my_list)"
   ]
  },
  {
   "cell_type": "code",
   "execution_count": 12,
   "id": "be4949aa",
   "metadata": {},
   "outputs": [
    {
     "name": "stdout",
     "output_type": "stream",
     "text": [
      "71\n"
     ]
    }
   ],
   "source": [
    "print(obj)"
   ]
  },
  {
   "cell_type": "markdown",
   "id": "89377dc7",
   "metadata": {},
   "source": [
    "Example 2: Find the elements from the list that starts with \"a\""
   ]
  },
  {
   "cell_type": "code",
   "execution_count": 68,
   "id": "f18ac92f",
   "metadata": {},
   "outputs": [],
   "source": [
    "str_list = [\"Deb\", \"Philipp\", \"Suman\", \"Anja\", \"Ajay\"]"
   ]
  },
  {
   "cell_type": "code",
   "execution_count": 69,
   "id": "b465fab4",
   "metadata": {},
   "outputs": [],
   "source": [
    "def str_a(my_list):\n",
    "    list_a = []\n",
    "    for i in my_list:\n",
    "        a = list(i)\n",
    "        if a[0] == \"a\" or a[0] == \"A\":\n",
    "            list_a.append(i) \n",
    "    return list_a"
   ]
  },
  {
   "cell_type": "code",
   "execution_count": 70,
   "id": "56765b00",
   "metadata": {},
   "outputs": [
    {
     "name": "stdout",
     "output_type": "stream",
     "text": [
      "['Anja', 'Ajay']\n"
     ]
    }
   ],
   "source": [
    "obj = str_a(str_list)\n",
    "\n",
    "print(obj)"
   ]
  },
  {
   "cell_type": "markdown",
   "id": "f7cc2368",
   "metadata": {},
   "source": [
    "Practice Example 1: From the below dictionary return the keys that have even values"
   ]
  },
  {
   "cell_type": "code",
   "execution_count": 82,
   "id": "d9ddbe4c",
   "metadata": {},
   "outputs": [],
   "source": [
    "dict_new = {\"a\" : 2, \"b\" : 3, \"c\" : 6, \"d\" : 90, \"e\" : 57, \"f\": 101}"
   ]
  },
  {
   "cell_type": "code",
   "execution_count": 83,
   "id": "a25e732c",
   "metadata": {},
   "outputs": [],
   "source": [
    "def even_dict(dict_):\n",
    "    my_list = []\n",
    "    for i,j in dict_.items():\n",
    "        if j%2 == 0:\n",
    "            my_list.append(i)\n",
    "    return my_list"
   ]
  },
  {
   "cell_type": "code",
   "execution_count": 84,
   "id": "b58e0b24",
   "metadata": {},
   "outputs": [
    {
     "name": "stdout",
     "output_type": "stream",
     "text": [
      "['a', 'c', 'd']\n"
     ]
    }
   ],
   "source": [
    "obj = even_dict(dict_new)\n",
    "\n",
    "print(obj)"
   ]
  },
  {
   "cell_type": "markdown",
   "id": "e4dcc24e",
   "metadata": {},
   "source": [
    "Practice 2: from the above dictionary get the keys with even values and return a new dictionary with its corresponding squared values\n",
    "\n",
    "Hint : Use the output of the previous function to evaluate this task"
   ]
  },
  {
   "cell_type": "code",
   "execution_count": 86,
   "id": "58c27525",
   "metadata": {},
   "outputs": [],
   "source": [
    "def sqr_dict_even(dict_):\n",
    "    \n",
    "    new_dict = {}\n",
    "    \n",
    "    obj = even_dict(dict_)\n",
    "    \n",
    "    for i,j in dict_.items():\n",
    "        if i in obj:\n",
    "            val = j**2\n",
    "            new_dict[i] = val\n",
    "            \n",
    "    return new_dict\n",
    "    "
   ]
  },
  {
   "cell_type": "code",
   "execution_count": 87,
   "id": "7d87e26b",
   "metadata": {},
   "outputs": [
    {
     "name": "stdout",
     "output_type": "stream",
     "text": [
      "{'a': 4, 'c': 36, 'd': 8100}\n"
     ]
    }
   ],
   "source": [
    "obj = sqr_dict_even(dict_new)\n",
    "\n",
    "print(obj)"
   ]
  },
  {
   "cell_type": "markdown",
   "id": "2db12205",
   "metadata": {},
   "source": [
    "# What is lambda function?"
   ]
  },
  {
   "cell_type": "markdown",
   "id": "6d7dd7ff",
   "metadata": {},
   "source": [
    "a lambda function is a concise way to create anonymous or unnamed functions. It is defined using the lambda keyword, followed by a list of parameters, a colon (:), and an expression."
   ]
  },
  {
   "cell_type": "code",
   "execution_count": 31,
   "id": "e74b52ff",
   "metadata": {},
   "outputs": [],
   "source": [
    "x = 4"
   ]
  },
  {
   "cell_type": "code",
   "execution_count": 32,
   "id": "606d0515",
   "metadata": {},
   "outputs": [],
   "source": [
    "square = lambda x:x**2"
   ]
  },
  {
   "cell_type": "code",
   "execution_count": 33,
   "id": "37906fe9",
   "metadata": {},
   "outputs": [
    {
     "name": "stdout",
     "output_type": "stream",
     "text": [
      "16\n"
     ]
    }
   ],
   "source": [
    "print(square(4))"
   ]
  },
  {
   "cell_type": "code",
   "execution_count": 16,
   "id": "604b5d93",
   "metadata": {},
   "outputs": [
    {
     "data": {
      "text/plain": [
       "'A map function is a in-built function with maps a lambda function or a normal funtion with \\na sequence and it works on all the elemenents of the sequence'"
      ]
     },
     "execution_count": 16,
     "metadata": {},
     "output_type": "execute_result"
    }
   ],
   "source": [
    "\"\"\"Lambda function can be integrated with the map function\"\"\"\n",
    "\n",
    "\"\"\"A map function is a in-built function with maps a lambda function or a normal funtion with \n",
    "a sequence and it works on all the elemenents of the sequence\"\"\""
   ]
  },
  {
   "cell_type": "markdown",
   "id": "1c0d4004",
   "metadata": {},
   "source": [
    "Example 1: Find the square of all the element of a list and return a list with all the corresponding squares"
   ]
  },
  {
   "cell_type": "code",
   "execution_count": 34,
   "id": "2c22198e",
   "metadata": {},
   "outputs": [],
   "source": [
    "my_list = [2,4,5,7,8]"
   ]
  },
  {
   "cell_type": "code",
   "execution_count": 35,
   "id": "482b0dc0",
   "metadata": {},
   "outputs": [],
   "source": [
    "square = list(map(lambda x: x**2 , my_list))"
   ]
  },
  {
   "cell_type": "code",
   "execution_count": 36,
   "id": "9f343d6f",
   "metadata": {},
   "outputs": [
    {
     "name": "stdout",
     "output_type": "stream",
     "text": [
      "[4, 16, 25, 49, 64]\n"
     ]
    }
   ],
   "source": [
    "print(square)"
   ]
  },
  {
   "cell_type": "markdown",
   "id": "dc84d24f",
   "metadata": {},
   "source": [
    "Example 2: Get the odd numbers from the above list"
   ]
  },
  {
   "cell_type": "code",
   "execution_count": 47,
   "id": "bfde940d",
   "metadata": {},
   "outputs": [
    {
     "data": {
      "text/plain": [
       "'Lambda function an also be used along with filter function to filter out certain values as \\nper the condition set in the lambda function'"
      ]
     },
     "execution_count": 47,
     "metadata": {},
     "output_type": "execute_result"
    }
   ],
   "source": [
    "\"\"\"Lambda function an also be used along with filter function to filter out certain values as \n",
    "per the condition set in the lambda function\"\"\""
   ]
  },
  {
   "cell_type": "code",
   "execution_count": 48,
   "id": "4bedc967",
   "metadata": {},
   "outputs": [],
   "source": [
    "odd_num = list(filter(lambda x: x % 2 != 0, my_list))"
   ]
  },
  {
   "cell_type": "code",
   "execution_count": 49,
   "id": "385a6e3c",
   "metadata": {},
   "outputs": [
    {
     "name": "stdout",
     "output_type": "stream",
     "text": [
      "[5, 7]\n"
     ]
    }
   ],
   "source": [
    "print(odd_num)"
   ]
  },
  {
   "cell_type": "code",
   "execution_count": 1,
   "id": "cabb2452",
   "metadata": {},
   "outputs": [
    {
     "data": {
      "text/plain": [
       "'Lambda function can be used with multiple parameters and also with conditinal statements'"
      ]
     },
     "execution_count": 1,
     "metadata": {},
     "output_type": "execute_result"
    }
   ],
   "source": [
    "\"\"\"Lambda function can be used with multiple parameters and also with conditional statements\"\"\""
   ]
  },
  {
   "cell_type": "code",
   "execution_count": 5,
   "id": "040069f7",
   "metadata": {},
   "outputs": [],
   "source": [
    " i,j = 3 , 4"
   ]
  },
  {
   "cell_type": "code",
   "execution_count": 6,
   "id": "caa0d445",
   "metadata": {},
   "outputs": [],
   "source": [
    "add = lambda x,y: x+y ##Using multiple parameters"
   ]
  },
  {
   "cell_type": "code",
   "execution_count": 7,
   "id": "0a7b5fdd",
   "metadata": {},
   "outputs": [
    {
     "name": "stdout",
     "output_type": "stream",
     "text": [
      "addition result is  7\n"
     ]
    }
   ],
   "source": [
    "print(\"addition result is \", add(i,j))"
   ]
  },
  {
   "cell_type": "code",
   "execution_count": 23,
   "id": "a15a6908",
   "metadata": {},
   "outputs": [],
   "source": [
    "str_list = [\"Deb\", \"Antony\", \"Philipp\", \"Suman\", \"Anja\", \"Ajay\"]"
   ]
  },
  {
   "cell_type": "code",
   "execution_count": 27,
   "id": "e83e3fe4",
   "metadata": {},
   "outputs": [],
   "source": [
    "'''Using conditional statements'''\n",
    "\n",
    "start_a = lambda x: x if list(x)[0] == 'a' or list(x)[0] == 'A' else None"
   ]
  },
  {
   "cell_type": "code",
   "execution_count": 28,
   "id": "53ea34c5",
   "metadata": {},
   "outputs": [],
   "source": [
    "name_start_a = list(filter(start_a, str_list))"
   ]
  },
  {
   "cell_type": "code",
   "execution_count": 29,
   "id": "54b8326d",
   "metadata": {},
   "outputs": [
    {
     "data": {
      "text/plain": [
       "['Antony', 'Anja', 'Ajay']"
      ]
     },
     "execution_count": 29,
     "metadata": {},
     "output_type": "execute_result"
    }
   ],
   "source": [
    "name_start_a"
   ]
  },
  {
   "cell_type": "markdown",
   "id": "77f5e4d9",
   "metadata": {},
   "source": [
    "Practice Example 1: Using lambda function find the names that has less than 5 letters from the above list  "
   ]
  },
  {
   "cell_type": "code",
   "execution_count": 31,
   "id": "ed55354f",
   "metadata": {},
   "outputs": [],
   "source": [
    "less_5 = list(filter(lambda x: x if len(list(x)) < 5 else None , str_list))"
   ]
  },
  {
   "cell_type": "code",
   "execution_count": 32,
   "id": "bc35069f",
   "metadata": {},
   "outputs": [
    {
     "data": {
      "text/plain": [
       "['Deb', 'Anja', 'Ajay']"
      ]
     },
     "execution_count": 32,
     "metadata": {},
     "output_type": "execute_result"
    }
   ],
   "source": [
    "less_5"
   ]
  },
  {
   "cell_type": "code",
   "execution_count": null,
   "id": "e81195b5",
   "metadata": {},
   "outputs": [],
   "source": []
  }
 ],
 "metadata": {
  "kernelspec": {
   "display_name": "Python 3",
   "language": "python",
   "name": "python3"
  },
  "language_info": {
   "codemirror_mode": {
    "name": "ipython",
    "version": 3
   },
   "file_extension": ".py",
   "mimetype": "text/x-python",
   "name": "python",
   "nbconvert_exporter": "python",
   "pygments_lexer": "ipython3",
   "version": "3.7.4"
  }
 },
 "nbformat": 4,
 "nbformat_minor": 5
}
